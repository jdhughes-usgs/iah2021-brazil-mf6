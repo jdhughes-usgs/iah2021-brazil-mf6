{
 "cells": [
  {
   "cell_type": "markdown",
   "metadata": {},
   "source": [
    "### Automating Model Runs - Streamflow Capture Analysis\n",
    "\n",
    "All groundwater pumped is balanced by removal of water somewhere, initially from storage in the aquifer and later from capture in the form of increase in recharge and decrease in discharge (Leake and others, 2010). Capture that results in a loss of water in streams, rivers, and wetlands now is a concern in many parts of the United States. Hydrologists commonly use analytical and numerical approaches to study temporal variations in sources of water to wells for select points of interest. Much can be learned about coupled surface/groundwater systems, however, by looking at the spatial distribution of theoretical capture for select times of interest. Development of maps of capture requires (1) a reasonably well-constructed transient or steady state model of an aquifer with head-dependent flow boundaries representing surface water features or evapotranspiration and (2) an automated procedure to run the model repeatedly and extract results, each time with a well in a different location. In this exercise, we will perform a streamflow capture analysis of the Freyberg model domain by developing a MODFLOW model, running it as many times as there are active model cells, and then creating a streamflow capture fraction map to summarize the results.\n",
    "\n",
    "[Leake, S. A., Reeves, H. W. and Dickinson, J. E. (2010), A New Capture Fraction Method to Map How Pumpage Affects Surface Water Flow. Ground Water, 48: 690–700. doi: 10.1111/j.1745-6584.2010.00701.x](http://onlinelibrary.wiley.com/doi/10.1111/j.1745-6584.2010.00701.x/abstract)\n",
    "\n"
   ]
  },
  {
   "cell_type": "code",
   "execution_count": 1,
   "metadata": {},
   "outputs": [],
   "source": [
    "import os\n",
    "import numpy as np\n",
    "import matplotlib.pyplot as plt\n",
    "import flopy"
   ]
  },
  {
   "cell_type": "markdown",
   "metadata": {},
   "source": [
    "#### Load existing freyberg model\n",
    "\n",
    "The MODFLOW 6 version of the freyberg model is located in:\n",
    "\n",
    "```\n",
    "../../data/freyberg\n",
    "```\n",
    "\n",
    "The model name is `freyberg6`.\n",
    "\n",
    "You should define the model workspace (`ws`) where the model files are, the model name (`name`), and the name and path of the model executable (`exe_name`). "
   ]
  },
  {
   "cell_type": "code",
   "execution_count": 2,
   "metadata": {},
   "outputs": [
    {
     "data": {
      "text/plain": [
       "'/Users/mnfienen/Documents/GIT/mf6flopy2019_Neuchatel/notebooks/additional_topics'"
      ]
     },
     "execution_count": 2,
     "metadata": {},
     "output_type": "execute_result"
    }
   ],
   "source": [
    "os.getcwd()"
   ]
  },
  {
   "cell_type": "markdown",
   "metadata": {},
   "source": [
    "### Set the location of the model data sets and the executables\n",
    "\n",
    "_These paths are relative to the directory containing this notebook_ `mf6flopy2019_Neuchatel_git/notebooks/additional_topics`"
   ]
  },
  {
   "cell_type": "code",
   "execution_count": 3,
   "metadata": {},
   "outputs": [
    {
     "name": "stdout",
     "output_type": "stream",
     "text": [
      "loading simulation...\n",
      "  loading simulation name file...\n",
      "  loading tdis package...\n",
      "  loading model gwf6...\n",
      "    loading package dis...\n",
      "    loading package ic...\n",
      "WARNING: Block \"options\" is not a valid block name for file type ic.\n",
      "    loading package npf...\n",
      "    loading package oc...\n",
      "    loading package wel...\n",
      "    loading package riv...\n",
      "    loading package rch...\n",
      "    loading package chd...\n",
      "  loading ims package freyberg6...\n"
     ]
    }
   ],
   "source": [
    "ws = '../../data/freyberg/'\n",
    "name = 'freyberg6'\n",
    "exe_name = 'mf6'\n",
    "\n",
    "# load simulation\n",
    "sim = flopy.mf6.MFSimulation.load(sim_name=name, exe_name=exe_name, sim_ws=ws)"
   ]
  },
  {
   "cell_type": "markdown",
   "metadata": {},
   "source": [
    "#### Change the model workspace and run the model\n",
    "\n",
    "The model workspace can be changed using `sim.set_sim_path(ws)`, where `ws` is set to be `work/ex06`. Next write the simulation using `sim.write_simulation()` and run the model using `sim.run_simulation()`."
   ]
  },
  {
   "cell_type": "code",
   "execution_count": 4,
   "metadata": {},
   "outputs": [],
   "source": [
    "ws = 'temp/automation'\n",
    "sim.set_sim_path(ws)"
   ]
  },
  {
   "cell_type": "code",
   "execution_count": 5,
   "metadata": {},
   "outputs": [
    {
     "name": "stdout",
     "output_type": "stream",
     "text": [
      "writing simulation...\n",
      "  writing simulation name file...\n",
      "  writing simulation tdis package...\n",
      "  writing ims package freyberg6...\n",
      "  writing model freyberg6...\n",
      "    writing model name file...\n",
      "    writing package dis...\n",
      "    writing package ic...\n",
      "    writing package npf...\n",
      "    writing package oc...\n",
      "    writing package wel-1...\n",
      "    writing package riv-1...\n",
      "    writing package rch-1...\n",
      "    writing package chd-1...\n"
     ]
    }
   ],
   "source": [
    "sim.write_simulation()"
   ]
  },
  {
   "cell_type": "code",
   "execution_count": 6,
   "metadata": {},
   "outputs": [
    {
     "ename": "Exception",
     "evalue": "The program mf6 does not exist or is not executable.",
     "output_type": "error",
     "traceback": [
      "\u001b[0;31m---------------------------------------------------------------------------\u001b[0m",
      "\u001b[0;31mException\u001b[0m                                 Traceback (most recent call last)",
      "\u001b[0;32m<ipython-input-6-76962c7a657a>\u001b[0m in \u001b[0;36m<module>\u001b[0;34m\u001b[0m\n\u001b[0;32m----> 1\u001b[0;31m \u001b[0msim\u001b[0m\u001b[0;34m.\u001b[0m\u001b[0mrun_simulation\u001b[0m\u001b[0;34m(\u001b[0m\u001b[0;34m)\u001b[0m\u001b[0;34m\u001b[0m\u001b[0;34m\u001b[0m\u001b[0m\n\u001b[0m",
      "\u001b[0;32m~/Documents/GIT/flopy/flopy/mf6/modflow/mfsimulation.py\u001b[0m in \u001b[0;36mrun_simulation\u001b[0;34m(self, silent, pause, report, normal_msg, use_async, cargs)\u001b[0m\n\u001b[1;32m   1466\u001b[0m             \u001b[0;32melse\u001b[0m\u001b[0;34m:\u001b[0m\u001b[0;34m\u001b[0m\u001b[0;34m\u001b[0m\u001b[0m\n\u001b[1;32m   1467\u001b[0m                 \u001b[0msilent\u001b[0m \u001b[0;34m=\u001b[0m \u001b[0;32mTrue\u001b[0m\u001b[0;34m\u001b[0m\u001b[0;34m\u001b[0m\u001b[0m\n\u001b[0;32m-> 1468\u001b[0;31m         return run_model(\n\u001b[0m\u001b[1;32m   1469\u001b[0m             \u001b[0mself\u001b[0m\u001b[0;34m.\u001b[0m\u001b[0mexe_name\u001b[0m\u001b[0;34m,\u001b[0m\u001b[0;34m\u001b[0m\u001b[0;34m\u001b[0m\u001b[0m\n\u001b[1;32m   1470\u001b[0m             \u001b[0;32mNone\u001b[0m\u001b[0;34m,\u001b[0m\u001b[0;34m\u001b[0m\u001b[0;34m\u001b[0m\u001b[0m\n",
      "\u001b[0;32m~/Documents/GIT/flopy/flopy/mbase.py\u001b[0m in \u001b[0;36mrun_model\u001b[0;34m(exe_name, namefile, model_ws, silent, pause, report, normal_msg, use_async, cargs)\u001b[0m\n\u001b[1;32m   1719\u001b[0m             \u001b[0mexe_name\u001b[0m\u001b[0;34m\u001b[0m\u001b[0;34m\u001b[0m\u001b[0m\n\u001b[1;32m   1720\u001b[0m         )\n\u001b[0;32m-> 1721\u001b[0;31m         \u001b[0;32mraise\u001b[0m \u001b[0mException\u001b[0m\u001b[0;34m(\u001b[0m\u001b[0ms\u001b[0m\u001b[0;34m)\u001b[0m\u001b[0;34m\u001b[0m\u001b[0;34m\u001b[0m\u001b[0m\n\u001b[0m\u001b[1;32m   1722\u001b[0m     \u001b[0;32melse\u001b[0m\u001b[0;34m:\u001b[0m\u001b[0;34m\u001b[0m\u001b[0;34m\u001b[0m\u001b[0m\n\u001b[1;32m   1723\u001b[0m         \u001b[0;32mif\u001b[0m \u001b[0;32mnot\u001b[0m \u001b[0msilent\u001b[0m\u001b[0;34m:\u001b[0m\u001b[0;34m\u001b[0m\u001b[0;34m\u001b[0m\u001b[0m\n",
      "\u001b[0;31mException\u001b[0m: The program mf6 does not exist or is not executable."
     ]
    }
   ],
   "source": [
    "sim.run_simulation()"
   ]
  },
  {
   "cell_type": "markdown",
   "metadata": {},
   "source": [
    "#### Extract the river results for the base model\n",
    "\n",
    "Load the `RIV` results from `freyberg6.cbc` using `flopy.utils.CellBudgetFile(pth, precision='double')` and the `get_data(text=RIV)` method."
   ]
  },
  {
   "cell_type": "code",
   "execution_count": null,
   "metadata": {},
   "outputs": [],
   "source": [
    "pth = os.path.join(ws, name + '.cbc')\n",
    "cobj = flopy.utils.CellBudgetFile(pth, precision='double')"
   ]
  },
  {
   "cell_type": "code",
   "execution_count": null,
   "metadata": {},
   "outputs": [],
   "source": [
    "cobj.list_unique_records()"
   ]
  },
  {
   "cell_type": "code",
   "execution_count": null,
   "metadata": {},
   "outputs": [],
   "source": [
    "rivq = cobj.get_data(text='RIV')[0]\n",
    "rivq"
   ]
  },
  {
   "cell_type": "markdown",
   "metadata": {},
   "source": [
    "The river flux data is the `q` dtype in the river data. The data returned by `.get_data()` is a numpy recarray so the total stream flow can be calculated directly using `.q.sum()`."
   ]
  },
  {
   "cell_type": "code",
   "execution_count": null,
   "metadata": {},
   "outputs": [],
   "source": [
    "qbase = rivq['q'].sum()\n",
    "qbase"
   ]
  },
  {
   "cell_type": "markdown",
   "metadata": {},
   "source": [
    "#### Add additional wells and perform streamflow capture analysis\n",
    "\n",
    "First get the gwf model object so that we can add a new well package to perturb the stream flow in each cell. You can get a list of the available models in the simulation using `sim.model_names`. Get the gwf model object using `sim.get_model()`."
   ]
  },
  {
   "cell_type": "code",
   "execution_count": null,
   "metadata": {},
   "outputs": [],
   "source": [
    "gwf = sim.get_model('freyberg6')"
   ]
  },
  {
   "cell_type": "markdown",
   "metadata": {},
   "source": [
    "We will need the idomain and the CHD locations so that we only add wells in active cells. The idomain can be retrieved using `gwf.dis.idomain.array`. It will be useful to have the number of rows and columns in the model."
   ]
  },
  {
   "cell_type": "code",
   "execution_count": null,
   "metadata": {},
   "outputs": [],
   "source": [
    "idomain = gwf.dis.idomain.array\n",
    "#idomain\n",
    "idomain.shape"
   ]
  },
  {
   "cell_type": "code",
   "execution_count": null,
   "metadata": {},
   "outputs": [],
   "source": [
    "nrow, ncol = idomain.shape[1:3]\n",
    "ncol, nrow"
   ]
  },
  {
   "cell_type": "code",
   "execution_count": null,
   "metadata": {},
   "outputs": [],
   "source": [
    "gwf.package_names"
   ]
  },
  {
   "cell_type": "code",
   "execution_count": null,
   "metadata": {},
   "outputs": [],
   "source": []
  },
  {
   "cell_type": "markdown",
   "metadata": {},
   "source": [
    "Determine cells with constant head boundary conditions (`cellid`) in `.stress_period_data.get_data()[0]`. "
   ]
  },
  {
   "cell_type": "code",
   "execution_count": null,
   "metadata": {},
   "outputs": [],
   "source": [
    "chd = gwf.get_package('chd-1')\n",
    "cellid = chd.stress_period_data.get_data()[0].cellid\n",
    "cellid"
   ]
  },
  {
   "cell_type": "markdown",
   "metadata": {},
   "source": [
    "Set idomain to zero in cells with constant heads"
   ]
  },
  {
   "cell_type": "code",
   "execution_count": null,
   "metadata": {},
   "outputs": [],
   "source": [
    "for ipos in cellid:\n",
    "    idomain[ipos] = 0"
   ]
  },
  {
   "cell_type": "code",
   "execution_count": null,
   "metadata": {},
   "outputs": [],
   "source": [
    "#idomain"
   ]
  },
  {
   "cell_type": "markdown",
   "metadata": {},
   "source": [
    "Make an array to store the values"
   ]
  },
  {
   "cell_type": "code",
   "execution_count": null,
   "metadata": {},
   "outputs": [],
   "source": [
    "capture = np.zeros(idomain.shape, dtype=np.float)"
   ]
  },
  {
   "cell_type": "markdown",
   "metadata": {},
   "source": [
    "#### Streamflow capture analysis code block\n",
    "The code block below loops through every cell in the model and for each active cell adds a well in the current cell, rewrites the well file, reruns the model, extracts river leakage results from the model, and calculates the streamflow capture fraction for the cell. The model is run  with `silent=True` to suppress model output to the screen.\n",
    "\n",
    "Streamflow capture is defined as \n",
    "\n",
    "$c_{k,i,j} = \\frac{q_{k,i,j} - q_{{k,i,j}_{\\text{base}}}}{|q_{\\text{well}}|}$,\n",
    "\n",
    "where $q_{\\text{well}}$ is the pumping rate applied in each cell (use `-0.001`), $q_{k,i,j}$ is the net simulated river flux, and $q_{{k,i,j}_{\\text{base}}}$ is the net simulated river flux from the base model. "
   ]
  },
  {
   "cell_type": "code",
   "execution_count": null,
   "metadata": {},
   "outputs": [],
   "source": [
    "wnam = gwf.name + '_cf.wel'\n",
    "pname = 'cfwell'\n",
    "qwell = -1e-3\n",
    "k = 0\n",
    "failures = []\n",
    "for i in range(nrow):\n",
    "    for j in range(ncol):\n",
    "        # skip inactive cells\n",
    "        if idomain[k, i, j] < 1:\n",
    "            continue\n",
    "            \n",
    "        # make a new well package\n",
    "        wel_spd = [[(k, i, j), qwell]]\n",
    "        wel2 = flopy.mf6.ModflowGwfwel(gwf, stress_period_data=wel_spd, pname=pname)\n",
    "        \n",
    "        # write the simulation files\n",
    "        sim.write_simulation(silent=True)\n",
    "        \n",
    "        # run the simulation\n",
    "        success = sim.run_simulation(silent=True)\n",
    "        if not success:\n",
    "            failures.append((k, i, j))\n",
    "        \n",
    "        # process the results\n",
    "        pth = os.path.join(ws, name + '.cbc')\n",
    "        cobj = flopy.utils.CellBudgetFile(pth, precision='double')\n",
    "        rivq = cobj.get_data(text='RIV')[0]\n",
    "        rivcf = rivq['q'].sum()\n",
    "        cf = (rivcf - qbase) / qwell\n",
    "        #print(cf)\n",
    "        \n",
    "        # add the value to the capture array\n",
    "        capture[k,i,j] = cf\n",
    "        \n",
    "        # remove the new well package so it can be readded\n",
    "        #print(gwf.package_names)\n",
    "        gwf.remove_package(pname)\n",
    "\n",
    "if len(failures) > 0:\n",
    "    for k, i, j in failures:\n",
    "        print('model failed at cell ({}, {}, {})'.format(k, i, j))"
   ]
  },
  {
   "cell_type": "code",
   "execution_count": null,
   "metadata": {},
   "outputs": [],
   "source": [
    "mm = flopy.plot.PlotMapView(model=gwf)\n",
    "mm.plot_array(capture, masked_values=[0], cmap='jet_r')\n",
    "mm.plot_grid(lw=0.5, color='black')\n",
    "mm.plot_bc('WEL')\n",
    "mm.plot_bc('CHD', color='green')\n",
    "mm.plot_ibound()"
   ]
  },
  {
   "cell_type": "code",
   "execution_count": null,
   "metadata": {},
   "outputs": [],
   "source": []
  }
 ],
 "metadata": {
  "kernelspec": {
   "display_name": "Python 3",
   "language": "python",
   "name": "python3"
  },
  "language_info": {
   "codemirror_mode": {
    "name": "ipython",
    "version": 3
   },
   "file_extension": ".py",
   "mimetype": "text/x-python",
   "name": "python",
   "nbconvert_exporter": "python",
   "pygments_lexer": "ipython3",
   "version": "3.9.2"
  }
 },
 "nbformat": 4,
 "nbformat_minor": 4
}
