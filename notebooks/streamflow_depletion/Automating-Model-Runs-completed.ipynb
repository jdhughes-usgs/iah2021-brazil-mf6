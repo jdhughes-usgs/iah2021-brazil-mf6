{
 "cells": [
  {
   "cell_type": "markdown",
   "metadata": {},
   "source": [
    "### Automating Model Runs - Streamflow Capture Analysis\n",
    "\n",
    "All groundwater pumped is balanced by removal of water somewhere, initially from storage in the aquifer and later from capture in the form of increase in recharge and decrease in discharge (Leake and others, 2010). Capture that results in a loss of water in streams, rivers, and wetlands now is a concern in many parts of the United States. Hydrologists commonly use analytical and numerical approaches to study temporal variations in sources of water to wells for select points of interest. Much can be learned about coupled surface/groundwater systems, however, by looking at the spatial distribution of theoretical capture for select times of interest. Development of maps of capture requires (1) a reasonably well-constructed transient or steady state model of an aquifer with head-dependent flow boundaries representing surface water features or evapotranspiration and (2) an automated procedure to run the model repeatedly and extract results, each time with a well in a different location. In this exercise, we will perform a streamflow capture analysis of the Freyberg model domain by developing a MODFLOW model, running it as many times as there are active model cells, and then creating a streamflow capture fraction map to summarize the results.\n",
    "\n",
    "[Leake, S. A., Reeves, H. W. and Dickinson, J. E. (2010), A New Capture Fraction Method to Map How Pumpage Affects Surface Water Flow. Ground Water, 48: 690–700. doi: 10.1111/j.1745-6584.2010.00701.x](http://onlinelibrary.wiley.com/doi/10.1111/j.1745-6584.2010.00701.x/abstract)\n",
    "\n"
   ]
  },
  {
   "cell_type": "code",
   "execution_count": null,
   "metadata": {},
   "outputs": [],
   "source": [
    "import os\n",
    "import numpy as np\n",
    "import matplotlib.pyplot as plt\n",
    "import flopy"
   ]
  },
  {
   "cell_type": "markdown",
   "metadata": {},
   "source": [
    "#### Load existing freyberg model\n",
    "\n",
    "The MODFLOW 6 version of the freyberg model is located in:\n",
    "\n",
    "```\n",
    "../../data/freyberg\n",
    "```\n",
    "\n",
    "The model name is `freyberg6`.\n",
    "\n",
    "You should define the model workspace (`ws`) where the model files are, the model name (`name`), and the name and path of the model executable (`exe_name`). "
   ]
  },
  {
   "cell_type": "code",
   "execution_count": null,
   "metadata": {},
   "outputs": [],
   "source": [
    "os.getcwd()"
   ]
  },
  {
   "cell_type": "markdown",
   "metadata": {},
   "source": [
    "### Set the location of the model data sets and the executables\n",
    "\n",
    "_These paths are relative to the directory containing this notebook_  \n",
    "`iah2021-brazil-mf6/notebooks/streamflow_depletion`"
   ]
  },
  {
   "cell_type": "code",
   "execution_count": null,
   "metadata": {},
   "outputs": [],
   "source": [
    "ws = \"../../data/freyberg/\"\n",
    "name = \"freyberg6\"\n",
    "exe_name = \"mf6\"\n",
    "\n",
    "# load simulation\n",
    "sim = flopy.mf6.MFSimulation.load(sim_name=name, exe_name=exe_name, sim_ws=ws)"
   ]
  },
  {
   "cell_type": "markdown",
   "metadata": {},
   "source": [
    "#### Change the model workspace and run the model\n",
    "\n",
    "The model workspace can be changed using `sim.set_sim_path(ws)`, where `ws` is set to be `work/ex06`. Next write the simulation using `sim.write_simulation()` and run the model using `sim.run_simulation()`."
   ]
  },
  {
   "cell_type": "code",
   "execution_count": null,
   "metadata": {},
   "outputs": [],
   "source": [
    "ws = \"temp/automation\"\n",
    "sim.set_sim_path(ws)"
   ]
  },
  {
   "cell_type": "code",
   "execution_count": null,
   "metadata": {},
   "outputs": [],
   "source": [
    "sim.write_simulation()"
   ]
  },
  {
   "cell_type": "code",
   "execution_count": null,
   "metadata": {},
   "outputs": [],
   "source": [
    "sim.run_simulation()"
   ]
  },
  {
   "cell_type": "markdown",
   "metadata": {},
   "source": [
    "#### Extract the river results for the base model\n",
    "\n",
    "Load the `SFR` observations from the groundwater flow model using the `gwf.sfr.output.obs().data` method.\n",
    "\n",
    "First get the gwf model object so that we can add a new well package to perturb the stream flow in each cell. You can get a list of the available models in the simulation using `sim.model_names`. Get the gwf model object using `sim.get_model()`. The package names can be determined using `gwf.package_names`."
   ]
  },
  {
   "cell_type": "code",
   "execution_count": null,
   "metadata": {},
   "outputs": [],
   "source": [
    "gwf = sim.get_model(\"freyberg6\")\n",
    "gwf.package_names"
   ]
  },
  {
   "cell_type": "code",
   "execution_count": null,
   "metadata": {},
   "outputs": [],
   "source": [
    "sfr = gwf.get_package(\"sfr_1\")\n",
    "obs = sfr.output.obs().data"
   ]
  },
  {
   "cell_type": "markdown",
   "metadata": {},
   "source": [
    "The observation file contains a headwater and tailwater observations. The data returned by `gwf.sfr.output.obs().data` is a numpy recarray."
   ]
  },
  {
   "cell_type": "code",
   "execution_count": null,
   "metadata": {},
   "outputs": [],
   "source": [
    "headwater_base, tailwater_base = float(obs[\"HEADWATER\"]), float(obs[\"TAILWATER\"])\n",
    "headwater_base, tailwater_base"
   ]
  },
  {
   "cell_type": "markdown",
   "metadata": {},
   "source": [
    "#### Add additional wells and perform streamflow capture analysis\n",
    "\n",
    "We will need the idomain so that we only add wells in active cells. The idomain can be retrieved using `gwf.dis.idomain.array`. It will be useful to have the number of rows and columns in the model."
   ]
  },
  {
   "cell_type": "code",
   "execution_count": null,
   "metadata": {},
   "outputs": [],
   "source": [
    "idomain = gwf.dis.idomain.array\n",
    "idomain.shape"
   ]
  },
  {
   "cell_type": "code",
   "execution_count": null,
   "metadata": {},
   "outputs": [],
   "source": [
    "nlay, nrow, ncol = idomain.shape\n",
    "nlay, ncol, nrow"
   ]
  },
  {
   "cell_type": "markdown",
   "metadata": {},
   "source": [
    "Make an array to store the values"
   ]
  },
  {
   "cell_type": "code",
   "execution_count": null,
   "metadata": {},
   "outputs": [],
   "source": [
    "capture_shape = (2,) + idomain.shape\n",
    "capture = np.zeros(capture_shape, dtype=np.float)"
   ]
  },
  {
   "cell_type": "code",
   "execution_count": null,
   "metadata": {},
   "outputs": [],
   "source": [
    "capture_shape"
   ]
  },
  {
   "cell_type": "markdown",
   "metadata": {},
   "source": [
    "#### Streamflow capture analysis code block\n",
    "The code block below loops through every cell in the model and for each active cell adds a well in the current cell, rewrites the well file, reruns the model, extracts river leakage results from the model, and calculates the streamflow capture fraction for the cell. The model is run  with `silent=True` to suppress model output to the screen.\n",
    "\n",
    "Streamflow capture is defined as \n",
    "\n",
    "$c_{k,i,j} = \\frac{q_{k,i,j} - q_{{k,i,j}_{\\text{base}}}}{|q_{\\text{well}}|}$,\n",
    "\n",
    "where $q_{\\text{well}}$ is the pumping rate applied in each cell (use `-0.001`), $q_{k,i,j}$ is the net simulated river flux, and $q_{{k,i,j}_{\\text{base}}}$ is the net simulated river flux from the base model. "
   ]
  },
  {
   "cell_type": "code",
   "execution_count": null,
   "metadata": {},
   "outputs": [],
   "source": [
    "wnam = gwf.name + '_cf.wel'\n",
    "pname = 'cfwell'\n",
    "qwell = -10.\n",
    "failures = []\n",
    "for k in range(nlay):\n",
    "    for i in range(nrow):\n",
    "        for j in range(ncol):\n",
    "            # skip inactive cells\n",
    "            if idomain[k, i, j] < 1:\n",
    "                continue\n",
    "            print(f'running k:{k}, i:{i}, j:{j}\\r', end='')\n",
    "            # make a new well package\n",
    "            wel_spd = [[k, i, j, qwell]]\n",
    "            wel2 = flopy.mf6.ModflowGwfwel(gwf, stress_period_data=wel_spd, pname=pname, filename=wnam)\n",
    "\n",
    "            # write the simulation files\n",
    "            sim.write_simulation(silent=True)\n",
    "\n",
    "            # run the simulation\n",
    "            success = sim.run_simulation(silent=True)\n",
    "            if not success:\n",
    "                failures.append((k, i, j))\n",
    "\n",
    "            # process the results\n",
    "            obs = sfr.output.obs().data\n",
    "            headwater, tailwater = float(obs[\"HEADWATER\"]), float(obs[\"TAILWATER\"])\n",
    "            cf_headwater = (headwater - headwater_base) / abs(qwell)\n",
    "            cf_tailwater = (tailwater - tailwater_base) / abs(qwell)\n",
    "\n",
    "            # add the value to the capture array\n",
    "            capture[0, k, i, j] = cf_headwater\n",
    "            capture[1, k, i, j] = cf_tailwater\n",
    "\n",
    "            # remove the new well package so it can be readded\n",
    "            gwf.remove_package(pname)\n",
    "\n",
    "if len(failures) > 0:\n",
    "    for k, i, j in failures:\n",
    "        print('model failed at cell ({}, {}, {})'.format(k, i, j))"
   ]
  },
  {
   "cell_type": "markdown",
   "metadata": {},
   "source": [
    "# Finally, plot the capture"
   ]
  },
  {
   "cell_type": "code",
   "execution_count": null,
   "metadata": {},
   "outputs": [],
   "source": [
    "vmin, vmax = 0., 1.\n",
    "fig, axes = plt.subplots(nrows=2, ncols=nlay, figsize=(8,8), constrained_layout=True)\n",
    "iax = 0\n",
    "for i in range(2):\n",
    "    if i == 0:\n",
    "        prefix = \"Headwater\"\n",
    "    else:\n",
    "        prefix = \"Tailwater\"\n",
    "    for k in range(nlay):\n",
    "        ax = axes.flatten()[iax]\n",
    "        ax.set_aspect('equal')\n",
    "        title = \"{} - Layer {}\".format(prefix, k+1)\n",
    "        mm = flopy.plot.PlotMapView(model=gwf, ax=ax, layer=k)\n",
    "        v = mm.plot_array(capture[i, k, :, :], masked_values=[0], cmap='jet_r', vmin=vmin, vmax=vmax)\n",
    "        mm.plot_grid(lw=0.5, color='black')\n",
    "        mm.plot_bc(\"SFR\", alpha=0.5)\n",
    "        mm.plot_bc(\"WEL\", color=\"#FF33D7\")\n",
    "        mm.plot_bc(\"GHB\", color=\"green\")\n",
    "        mm.plot_ibound()\n",
    "        ax.set_title(title)\n",
    "        if iax == 4:\n",
    "            cbar = plt.colorbar(v, ax=ax, orientation=\"horizontal\", shrink=1.)\n",
    "            cbar.set_label(\"Capture Fraction\")\n",
    "        iax += 1\n",
    "        "
   ]
  },
  {
   "cell_type": "code",
   "execution_count": null,
   "metadata": {},
   "outputs": [],
   "source": []
  }
 ],
 "metadata": {
  "kernelspec": {
   "display_name": "Python 3 (ipykernel)",
   "language": "python",
   "name": "python3"
  },
  "language_info": {
   "codemirror_mode": {
    "name": "ipython",
    "version": 3
   },
   "file_extension": ".py",
   "mimetype": "text/x-python",
   "name": "python",
   "nbconvert_exporter": "python",
   "pygments_lexer": "ipython3",
   "version": "3.9.2"
  }
 },
 "nbformat": 4,
 "nbformat_minor": 4
}
