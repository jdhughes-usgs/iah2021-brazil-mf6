{
 "cells": [
  {
   "cell_type": "code",
   "execution_count": null,
   "metadata": {},
   "outputs": [],
   "source": [
    "import os\n",
    "import numpy as np\n",
    "import pandas as pd\n",
    "import matplotlib.pyplot as plt\n",
    "\n",
    "import flopy"
   ]
  },
  {
   "cell_type": "markdown",
   "metadata": {},
   "source": [
    "### Load the existing MODFLOW-NWT model"
   ]
  },
  {
   "cell_type": "code",
   "execution_count": null,
   "metadata": {},
   "outputs": [],
   "source": [
    "org_nwt_ws = os.path.join(\"..\", \"..\", \"data\", \"freyberg_nwt\")\n",
    "assert os.path.exists(org_nwt_ws)"
   ]
  },
  {
   "cell_type": "code",
   "execution_count": null,
   "metadata": {},
   "outputs": [],
   "source": [
    "nam_file = \"freyberg.nam\"\n",
    "m_nwt = flopy.modflow.Modflow.load(nam_file, model_ws=org_nwt_ws, exe_name=\"mfnwt\", forgive=False, check=False)"
   ]
  },
  {
   "cell_type": "markdown",
   "metadata": {},
   "source": [
    "### Create the MODFLOW 6 model from the MODFLOW-NWT data in the flopy model object"
   ]
  },
  {
   "cell_type": "code",
   "execution_count": null,
   "metadata": {},
   "outputs": [],
   "source": [
    "mf6_ws = \"temp\"\n",
    "name = nam_file.replace(\".nam\", \"\")\n",
    "sim = flopy.mf6.MFSimulation(sim_name=name, exe_name=\"mf6\", sim_ws=mf6_ws)"
   ]
  },
  {
   "cell_type": "code",
   "execution_count": null,
   "metadata": {},
   "outputs": [],
   "source": [
    "perioddata = list(zip(m_nwt.dis.perlen.array, m_nwt.dis.nstp.array, m_nwt.dis.tsmult))\n",
    "perioddata"
   ]
  },
  {
   "cell_type": "code",
   "execution_count": null,
   "metadata": {},
   "outputs": [],
   "source": [
    "tdis = flopy.mf6.ModflowTdis(sim, perioddata=perioddata, nper=m_nwt.nper)"
   ]
  },
  {
   "cell_type": "code",
   "execution_count": null,
   "metadata": {},
   "outputs": [],
   "source": [
    "m_mf6 = flopy.mf6.ModflowGwf(sim, modelname=name, exe_name=\"mf6\")"
   ]
  },
  {
   "cell_type": "code",
   "execution_count": null,
   "metadata": {},
   "outputs": [],
   "source": [
    "ims = flopy.mf6.ModflowIms(sim)"
   ]
  },
  {
   "cell_type": "code",
   "execution_count": null,
   "metadata": {},
   "outputs": [],
   "source": [
    "dis = flopy.mf6.ModflowGwfdis(m_mf6, nrow=m_nwt.nrow, ncol=m_nwt.ncol, nlay=m_nwt.nlay,\n",
    "                              delr=m_nwt.dis.delr.array, delc=m_nwt.dis.delc.array, \n",
    "                              top=m_nwt.dis.top.array, botm=m_nwt.dis.botm.array,\n",
    "                              idomain=m_nwt.bas6.ibound.array)"
   ]
  },
  {
   "cell_type": "code",
   "execution_count": null,
   "metadata": {},
   "outputs": [],
   "source": [
    "wel_spd = {}\n",
    "for kper in range(m_nwt.nper):\n",
    "    df = pd.DataFrame.from_records(m_nwt.wel.stress_period_data[kper])\n",
    "    df.loc[:,\"kij\"] = df.apply(lambda x: (int(x.k), int(x.i), int(x.j)), axis=1)\n",
    "    wel_spd[kper] = [df.loc[i, [\"kij\",\"flux\"]].to_list() for i in range(df.shape[0])]"
   ]
  },
  {
   "cell_type": "code",
   "execution_count": null,
   "metadata": {},
   "outputs": [],
   "source": [
    "wel_spd[0]"
   ]
  },
  {
   "cell_type": "code",
   "execution_count": null,
   "metadata": {},
   "outputs": [],
   "source": [
    "wel = flopy.mf6.ModflowGwfwel(m_mf6,stress_period_data=wel_spd)"
   ]
  },
  {
   "cell_type": "code",
   "execution_count": null,
   "metadata": {},
   "outputs": [],
   "source": [
    "riv_j = 14\n",
    "riv_locs = [(0,i,riv_j) for i in range(m_nwt.nrow)]\n",
    "stages = np.linspace(m_nwt.dis.top[0,riv_j], m_nwt.dis.top[-1,riv_j], m_nwt.nrow)\n",
    "conds = np.zeros((m_nwt.nrow)) + 100\n",
    "rbots = stages - 2\n",
    "riv_data = list(zip(riv_locs, stages, conds, rbots))"
   ]
  },
  {
   "cell_type": "code",
   "execution_count": null,
   "metadata": {},
   "outputs": [],
   "source": [
    "riv = flopy.mf6.ModflowGwfriv(m_mf6, stress_period_data=riv_data)"
   ]
  },
  {
   "cell_type": "code",
   "execution_count": null,
   "metadata": {},
   "outputs": [],
   "source": [
    "npf = flopy.mf6.ModflowGwfnpf(m_mf6, k=m_nwt.upw.hk.array, k33=m_nwt.upw.vka.array)"
   ]
  },
  {
   "cell_type": "code",
   "execution_count": null,
   "metadata": {},
   "outputs": [],
   "source": [
    "sto = flopy.mf6.ModflowGwfsto(m_mf6, ss=m_nwt.upw.ss.array, sy=m_nwt.upw.sy.array)"
   ]
  },
  {
   "cell_type": "code",
   "execution_count": null,
   "metadata": {},
   "outputs": [],
   "source": [
    "ic = flopy.mf6.ModflowGwfic(m_mf6, strt=m_nwt.bas6.strt.array)"
   ]
  },
  {
   "cell_type": "code",
   "execution_count": null,
   "metadata": {},
   "outputs": [],
   "source": [
    "chd_data = [[(m_nwt.nlay-1, m_nwt.nrow-1,j), riv_data[-1][1]] for j in range(m_nwt.ncol) if m_nwt.bas6.ibound.array[-1, -1, j] != 0]\n",
    "chd_data"
   ]
  },
  {
   "cell_type": "code",
   "execution_count": null,
   "metadata": {},
   "outputs": [],
   "source": [
    "chd = flopy.mf6.ModflowGwfchd(m_mf6, stress_period_data=chd_data)"
   ]
  },
  {
   "cell_type": "code",
   "execution_count": null,
   "metadata": {},
   "outputs": [],
   "source": [
    "rch = flopy.mf6.ModflowGwfrcha(m_mf6, recharge = {kper: m_nwt.rch.rech[kper].array for kper in range(m_nwt.nper)})"
   ]
  },
  {
   "cell_type": "code",
   "execution_count": null,
   "metadata": {},
   "outputs": [],
   "source": [
    "oc = flopy.mf6.ModflowGwfoc(m_mf6, head_filerecord=name + \".hds\", saverecord=([\"head\", \"all\"]), printrecord=([\"budget\", \"all\"]))"
   ]
  },
  {
   "cell_type": "markdown",
   "metadata": {},
   "source": [
    "### Write the MODFLOW 6 model files"
   ]
  },
  {
   "cell_type": "code",
   "execution_count": null,
   "metadata": {},
   "outputs": [],
   "source": [
    "sim.write_simulation()"
   ]
  },
  {
   "cell_type": "markdown",
   "metadata": {},
   "source": [
    "### Run the MODFLOW 6 model"
   ]
  },
  {
   "cell_type": "code",
   "execution_count": null,
   "metadata": {},
   "outputs": [],
   "source": [
    "success = sim.run_simulation()"
   ]
  },
  {
   "cell_type": "markdown",
   "metadata": {},
   "source": [
    "### Post process the MODFLOW 6 results\n",
    "\n",
    "Simulated heads"
   ]
  },
  {
   "cell_type": "code",
   "execution_count": null,
   "metadata": {},
   "outputs": [],
   "source": [
    "hds = m_mf6.output.head()"
   ]
  },
  {
   "cell_type": "code",
   "execution_count": null,
   "metadata": {},
   "outputs": [],
   "source": [
    "hds.plot(masked_values=[1e30]);"
   ]
  },
  {
   "cell_type": "markdown",
   "metadata": {},
   "source": [
    "MODFLOW 6 water budget from the listing file"
   ]
  },
  {
   "cell_type": "code",
   "execution_count": null,
   "metadata": {},
   "outputs": [],
   "source": [
    "lst = m_mf6.output.list()\n",
    "flx, vol = lst.get_dataframes(diff=True)"
   ]
  },
  {
   "cell_type": "code",
   "execution_count": null,
   "metadata": {},
   "outputs": [],
   "source": [
    "flx.plot(kind=\"bar\",figsize=(10,10));"
   ]
  }
 ],
 "metadata": {
  "kernelspec": {
   "display_name": "Python 3",
   "language": "python",
   "name": "python3"
  },
  "language_info": {
   "codemirror_mode": {
    "name": "ipython",
    "version": 3
   },
   "file_extension": ".py",
   "mimetype": "text/x-python",
   "name": "python",
   "nbconvert_exporter": "python",
   "pygments_lexer": "ipython3",
   "version": "3.8.11"
  }
 },
 "nbformat": 4,
 "nbformat_minor": 4
}
