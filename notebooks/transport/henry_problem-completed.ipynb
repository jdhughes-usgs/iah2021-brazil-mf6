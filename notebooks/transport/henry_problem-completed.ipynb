{
 "cells": [
  {
   "cell_type": "code",
   "execution_count": null,
   "metadata": {},
   "outputs": [],
   "source": [
    "import sys\n",
    "import shutil\n",
    "import os\n",
    "import numpy as np\n",
    "import matplotlib\n",
    "import matplotlib.pyplot as plt\n",
    "import flopy"
   ]
  },
  {
   "cell_type": "markdown",
   "metadata": {},
   "source": [
    "### Set executable names"
   ]
  },
  {
   "cell_type": "code",
   "execution_count": null,
   "metadata": {},
   "outputs": [],
   "source": [
    "mf6exe = 'mf6beta'\n",
    "swtexe = 'swtv4'"
   ]
  },
  {
   "cell_type": "markdown",
   "metadata": {},
   "source": [
    "### Levels for contours"
   ]
  },
  {
   "cell_type": "code",
   "execution_count": null,
   "metadata": {},
   "outputs": [],
   "source": [
    "levels = [0.01, .1, .5, .9, .99]"
   ]
  },
  {
   "cell_type": "markdown",
   "metadata": {},
   "source": [
    "### Model dimensions"
   ]
  },
  {
   "cell_type": "code",
   "execution_count": null,
   "metadata": {},
   "outputs": [],
   "source": [
    "nper = 1\n",
    "perlen = 0.5\n",
    "nstp = 500\n",
    "tsmult = 1.\n",
    "steady = True"
   ]
  },
  {
   "cell_type": "code",
   "execution_count": null,
   "metadata": {},
   "outputs": [],
   "source": [
    "nlay, nrow, ncol = 40, 1, 80\n",
    "lengthx, lengthz = 2., 1.\n",
    "delr = lengthx / ncol\n",
    "delz = lengthz / nlay\n",
    "delc = 1.\n"
   ]
  },
  {
   "cell_type": "code",
   "execution_count": null,
   "metadata": {},
   "outputs": [],
   "source": [
    "top = 1.\n",
    "botm = list(top - np.arange(delz, nlay * delz + delz, delz))"
   ]
  },
  {
   "cell_type": "code",
   "execution_count": null,
   "metadata": {},
   "outputs": [],
   "source": [
    "qinflow = 5.7024\n",
    "constant_concentration = True"
   ]
  },
  {
   "cell_type": "markdown",
   "metadata": {},
   "source": [
    "### Build a SEAWAT model"
   ]
  },
  {
   "cell_type": "code",
   "execution_count": null,
   "metadata": {},
   "outputs": [],
   "source": [
    "# SEAWAT model\n",
    "ws = 'temp/henry_seawat'\n",
    "name = 'henry'"
   ]
  },
  {
   "cell_type": "code",
   "execution_count": null,
   "metadata": {},
   "outputs": [],
   "source": [
    "swt = flopy.seawat.Seawat(name, exe_name=swtexe, model_ws=ws, )\n",
    "dis = flopy.modflow.ModflowDis(swt, nlay, nrow, ncol, nper=1, delr=delr,\n",
    "                               delc=delc, laycbd=0, top=top, botm=botm, \n",
    "                               perlen=perlen, nstp=1, steady=steady)\n",
    "ibound = np.ones((nlay, nrow, ncol), dtype=np.int32)\n",
    "ibound[:, :, -1] = -1\n",
    "bas = flopy.modflow.ModflowBas(swt, ibound, 1)\n",
    "lpf = flopy.modflow.ModflowLpf(swt, hk=864., vka=864.)\n",
    "pcg = flopy.modflow.ModflowPcg(swt, hclose=1.e-8)\n",
    "oc = flopy.modflow.ModflowOc(swt, \n",
    "                             stress_period_data={(0, 0): ['save head', 'save budget']},\n",
    "                             compact=True)\n",
    "itype = flopy.mt3d.Mt3dSsm.itype_dict()\n",
    "wel_data = {}\n",
    "ssm_data = {}\n",
    "wel_sp1 = []\n",
    "ssm_sp1 = []\n",
    "for k in range(nlay):\n",
    "    wel_sp1.append([k, 0, 0, qinflow / nlay])\n",
    "    ssm_sp1.append([k, 0, 0, 0., itype['WEL']])\n",
    "    ssm_sp1.append([k, 0, ncol - 1, 35., itype['BAS6']])\n",
    "wel_data[0] = wel_sp1\n",
    "ssm_data[0] = ssm_sp1\n",
    "wel = flopy.modflow.ModflowWel(swt, stress_period_data=wel_data)\n",
    "if constant_concentration:\n",
    "    icbund = ibound\n",
    "else:\n",
    "    icbund = 1\n",
    "btn = flopy.mt3d.Mt3dBtn(swt, icbund=icbund, nprs=-5, prsity=0.35, sconc=35., ifmtcn=0,\n",
    "                         chkmas=False, nprobs=10, nprmas=10, dt0=perlen/500.)\n",
    "adv = flopy.mt3d.Mt3dAdv(swt, mixelm=0)\n",
    "dsp = flopy.mt3d.Mt3dDsp(swt, al=0., trpt=1., trpv=1., dmcoef=0.57024)\n",
    "gcg = flopy.mt3d.Mt3dGcg(swt, iter1=500, mxiter=1, isolve=1, cclose=1e-7)\n",
    "ssm = flopy.mt3d.Mt3dSsm(swt, stress_period_data=ssm_data)\n",
    "\n",
    "vdf = flopy.seawat.SeawatVdf(swt, iwtable=0, densemin=0, densemax=0,\n",
    "                             denseref=1000., denseslp=0.7, firstdt=perlen/500.)\n",
    "\n",
    "swt.write_input()\n",
    "v = swt.run_model(silent=True, report=True)\n",
    "for idx in range(-3, 0):\n",
    "    print(v[1][idx])"
   ]
  },
  {
   "cell_type": "markdown",
   "metadata": {},
   "source": [
    "### Post process the results"
   ]
  },
  {
   "cell_type": "code",
   "execution_count": null,
   "metadata": {},
   "outputs": [],
   "source": [
    "fpth = os.path.join(ws, 'MT3D001.UCN')\n",
    "concobj = flopy.utils.UcnFile(fpth)\n",
    "conc_swt = concobj.get_data(totim=concobj.get_times()[-1])\n",
    "concobj.file.close()"
   ]
  },
  {
   "cell_type": "markdown",
   "metadata": {},
   "source": [
    "### Plot the SEAWAT results"
   ]
  },
  {
   "cell_type": "code",
   "execution_count": null,
   "metadata": {},
   "outputs": [],
   "source": [
    "fig = plt.figure(figsize=(10,6))\n",
    "ax = fig.add_subplot(1, 1, 1, aspect='equal')\n",
    "xs = flopy.plot.PlotCrossSection(swt, line={'row': 0})\n",
    "xs.plot_grid(linewidths=0.5, alpha=0.5)\n",
    "xs.plot_array(conc_swt, cmap='jet', vmin=0, vmax=35)\n",
    "cs = xs.contour_array(conc_swt / 35., levels=levels, colors='white')\n",
    "ax.clabel(cs)\n",
    "ax.set_xlabel('DISTANCE, IN METERS')\n",
    "ax.set_ylabel('ELEVATION, IN METERS')\n",
    "ax.set_title('SEAWAT');"
   ]
  },
  {
   "cell_type": "markdown",
   "metadata": {},
   "source": [
    "### Build the MODFLOW 6 model"
   ]
  },
  {
   "cell_type": "code",
   "execution_count": null,
   "metadata": {},
   "outputs": [],
   "source": [
    "ws = 'temp/henry_mf6'\n",
    "name = 'henry'"
   ]
  },
  {
   "cell_type": "code",
   "execution_count": null,
   "metadata": {},
   "outputs": [],
   "source": [
    "HHformulation = True\n",
    "single_matrix = False\n",
    "nouter, ninner = 100, 300\n",
    "hclose, rclose, relax = 1e-7, 1e-5, 0.97\n"
   ]
  },
  {
   "cell_type": "markdown",
   "metadata": {},
   "source": [
    "#### set the names of the gwf and gwt models"
   ]
  },
  {
   "cell_type": "code",
   "execution_count": null,
   "metadata": {},
   "outputs": [],
   "source": [
    "gwfname = 'gwf_' + name\n",
    "gwtname = 'gwt_' + name"
   ]
  },
  {
   "cell_type": "markdown",
   "metadata": {},
   "source": [
    "#### Build the groundwater flow model"
   ]
  },
  {
   "cell_type": "code",
   "execution_count": null,
   "metadata": {},
   "outputs": [],
   "source": [
    "# build MODFLOW 6 files\n",
    "sim = flopy.mf6.MFSimulation(sim_name=name, version='mf6',\n",
    "                             exe_name=mf6exe,\n",
    "                             sim_ws=ws)\n",
    "# create tdis package\n",
    "tdis = flopy.mf6.ModflowTdis(sim, time_units='DAYS',\n",
    "                             nper=nper, perioddata=[perlen, nstp, tsmult])\n",
    "\n",
    "# create gwf model\n",
    "gwf = flopy.mf6.MFModel(sim, model_type='gwf6', modelname=gwfname,\n",
    "                        model_nam_file='{}.nam'.format(gwfname))\n",
    "\n",
    "imsgwf = flopy.mf6.ModflowIms(sim, print_option='ALL',\n",
    "                              outer_hclose=hclose,\n",
    "                              outer_maximum=nouter,\n",
    "                              under_relaxation='NONE',\n",
    "                              inner_maximum=ninner,\n",
    "                              inner_hclose=hclose, rcloserecord=rclose,\n",
    "                              linear_acceleration='BICGSTAB',\n",
    "                              scaling_method='NONE',\n",
    "                              reordering_method='NONE',\n",
    "                              relaxation_factor=relax,\n",
    "                              filename='{}.ims'.format(gwfname))\n",
    "if single_matrix:\n",
    "    sim.register_ims_package(imsgwf, [gwfname, gwtname])\n",
    "else:\n",
    "    sim.register_ims_package(imsgwf, [gwfname])\n",
    "\n",
    "dis = flopy.mf6.ModflowGwfdis(gwf, nlay=nlay, nrow=nrow, ncol=ncol,\n",
    "                              delr=delr, delc=delc,\n",
    "                              top=top, botm=botm)\n",
    "\n",
    "# initial conditions\n",
    "ic = flopy.mf6.ModflowGwfic(gwf, strt=1.)\n",
    "\n",
    "# node property flow\n",
    "npf = flopy.mf6.ModflowGwfnpf(gwf, xt3doptions=False,\n",
    "                              save_flows=True,\n",
    "                              save_specific_discharge=True,\n",
    "                              icelltype=0,\n",
    "                              k=864.)\n",
    "\n",
    "hhoptions = False\n",
    "if HHformulation:\n",
    "    hhoptions = [('HHFORMULATION'), ]\n",
    "buy = flopy.mf6.ModflowGwfbuy(gwf, hhoptions=hhoptions)\n",
    "\n",
    "def chd_value(k):\n",
    "    f = 0.0245\n",
    "    if HHformulation:\n",
    "        f = 0.\n",
    "    depth = k * delz + 0.5 * delz\n",
    "    hf = top + f * depth\n",
    "    return hf\n",
    "\n",
    "# chd files\n",
    "chdlist1 = []\n",
    "for k in range(nlay):\n",
    "    chdlist1.append([(k, 0, ncol - 1), chd_value(k), 35.])\n",
    "chd1 = flopy.mf6.ModflowGwfchd(gwf,\n",
    "                               stress_period_data=chdlist1,\n",
    "                               print_input=True,\n",
    "                               print_flows=True,\n",
    "                               save_flows=False,\n",
    "                               pname='CHD-1',\n",
    "                               auxiliary='CONCENTRATION',\n",
    "                               filename='{}.chd'.format(gwfname))\n",
    "\n",
    "wellist1 = []\n",
    "qwell = qinflow / nlay\n",
    "for k in range(nlay):\n",
    "    wellist1.append([(k, 0, 0), qwell, 0.])\n",
    "wel1 = flopy.mf6.ModflowGwfwel(gwf,\n",
    "                               stress_period_data=wellist1,\n",
    "                               print_input=True,\n",
    "                               print_flows=True,\n",
    "                               save_flows=False,\n",
    "                               pname='WEL-1',\n",
    "                               auxiliary='CONCENTRATION',\n",
    "                               filename='{}.wel'.format(gwfname))\n",
    "\n",
    "# output control\n",
    "oc = flopy.mf6.ModflowGwfoc(gwf,\n",
    "                            budget_filerecord='{}.cbc'.format(gwfname),\n",
    "                            head_filerecord='{}.hds'.format(gwfname),\n",
    "                            headprintrecord=[\n",
    "                                ('COLUMNS', 10, 'WIDTH', 15,\n",
    "                                 'DIGITS', 6, 'GENERAL')],\n",
    "                            saverecord=[('HEAD', 'LAST'),\n",
    "                                        ('BUDGET', 'LAST')],\n",
    "                            printrecord=[('HEAD', 'LAST'),\n",
    "                                         ('BUDGET', 'LAST')])"
   ]
  },
  {
   "cell_type": "markdown",
   "metadata": {},
   "source": [
    "#### Build the groundwater transport model"
   ]
  },
  {
   "cell_type": "code",
   "execution_count": null,
   "metadata": {},
   "outputs": [],
   "source": [
    "# create gwt model\n",
    "gwt = flopy.mf6.MFModel(sim, model_type='gwt6', modelname=gwtname,\n",
    "                        model_nam_file='{}.nam'.format(gwtname))\n",
    "\n",
    "if not single_matrix:\n",
    "    imsgwt = flopy.mf6.ModflowIms(sim, print_option='ALL',\n",
    "                                  outer_hclose=hclose,\n",
    "                                  outer_maximum=nouter,\n",
    "                                  under_relaxation='NONE',\n",
    "                                  inner_maximum=ninner,\n",
    "                                  inner_hclose=hclose, rcloserecord=rclose,\n",
    "                                  linear_acceleration='BICGSTAB',\n",
    "                                  scaling_method='NONE',\n",
    "                                  reordering_method='NONE',\n",
    "                                  relaxation_factor=relax,\n",
    "                                  filename='{}.ims'.format(gwtname))\n",
    "    sim.register_ims_package(imsgwt, [gwt.name])\n",
    "\n",
    "dis = flopy.mf6.ModflowGwtdis(gwt, nlay=nlay, nrow=nrow, ncol=ncol,\n",
    "                              delr=delr, delc=delc,\n",
    "                              top=top, botm=botm)\n",
    "\n",
    "# initial conditions\n",
    "ic = flopy.mf6.ModflowGwtic(gwt, strt=35.,\n",
    "                            filename='{}.ic'.format(gwtname))\n",
    "\n",
    "# advection\n",
    "adv = flopy.mf6.ModflowGwtadv(gwt, scheme='UPSTREAM',\n",
    "                              filename='{}.adv'.format(gwtname))\n",
    "\n",
    "# dispersion\n",
    "diffc = 0.57024\n",
    "dsp = flopy.mf6.ModflowGwtdsp(gwt, xt3d=False, diffc=diffc,\n",
    "                              # alh=0., alv=0., ath=0., atv=0.,\n",
    "                              filename='{}.dsp'.format(gwtname))\n",
    "\n",
    "# mass storage and transfer\n",
    "porosity = 0.35\n",
    "mst = flopy.mf6.ModflowGwtmst(gwt, porosity=porosity,\n",
    "                              filename='{}.sto'.format(gwtname))\n",
    "\n",
    "# sources\n",
    "sourcerecarray = [('CHD-1', 'AUX', 'CONCENTRATION'),\n",
    "                  ('WEL-1', 'AUX', 'CONCENTRATION')]\n",
    "ssm = flopy.mf6.ModflowGwtssm(gwt, sources=sourcerecarray,\n",
    "                              filename='{}.ssm'.format(gwtname))\n",
    "\n",
    "# constant concentration\n",
    "if constant_concentration:\n",
    "    cnclist = []\n",
    "    for k in range(nlay):\n",
    "        cnclist.append([(k, 0, ncol - 1), 35.])\n",
    "    cnc = flopy.mf6.ModflowGwtcnc(gwt, stress_period_data=cnclist)\n",
    "\n",
    "# output control\n",
    "oc = flopy.mf6.ModflowGwtoc(gwt,\n",
    "                            budget_filerecord='{}.cbc'.format(gwtname),\n",
    "                            concentration_filerecord='{}.ucn'.format(\n",
    "                                gwtname),\n",
    "                            concentrationprintrecord=[\n",
    "                                ('COLUMNS', 10, 'WIDTH', 15,\n",
    "                                 'DIGITS', 6, 'GENERAL')],\n",
    "                            saverecord=[('CONCENTRATION', 'ALL')],\n",
    "                            printrecord=[('CONCENTRATION', 'LAST'),\n",
    "                                         ('BUDGET', 'LAST')])\n",
    "\n",
    "# GWF GWT exchange\n",
    "gwfgwt = flopy.mf6.ModflowGwfgwt(sim, exgtype='GWF6-GWT6',\n",
    "                                 exgmnamea=gwfname, exgmnameb=gwtname,\n",
    "                                 filename='{}.gwfgwt'.format(name))\n",
    "\n",
    "sim.write_simulation(silent=True)\n",
    "v = sim.run_simulation(silent=True, report=True)\n",
    "for idx in range(-3, 0):\n",
    "    print(v[1][idx])"
   ]
  },
  {
   "cell_type": "markdown",
   "metadata": {},
   "source": [
    "### Post process the MODFLOW 6 results"
   ]
  },
  {
   "cell_type": "code",
   "execution_count": null,
   "metadata": {},
   "outputs": [],
   "source": [
    "fpth = os.path.join(ws, 'gwt_' + name + '.ucn')\n",
    "concobj = flopy.utils.HeadFile(fpth, text='concentration', precision='double')\n",
    "times = concobj.get_times()\n",
    "conc = concobj.get_data(totim=times[-1])\n",
    "concobj.file.close()"
   ]
  },
  {
   "cell_type": "markdown",
   "metadata": {},
   "source": [
    "### Plot the MODFLOW 6 results"
   ]
  },
  {
   "cell_type": "code",
   "execution_count": null,
   "metadata": {},
   "outputs": [],
   "source": [
    "fig = plt.figure(figsize=(10,6))\n",
    "ax = fig.add_subplot(1, 1, 1, aspect='equal')\n",
    "xs = flopy.plot.PlotCrossSection(gwf, line={'row': 0})\n",
    "xs.plot_grid(linewidths=0.5, alpha=0.5)\n",
    "xs.plot_array(conc, cmap='jet', vmin=0, vmax=35)\n",
    "cs = xs.contour_array(conc / 35., levels=levels, colors='white')\n",
    "ax.clabel(cs)\n",
    "ax.set_xlabel('DISTANCE, IN METERS')\n",
    "ax.set_ylabel('ELEVATION, IN METERS')\n",
    "title = 'MODFLOW 6 '\n",
    "if HHformulation:\n",
    "    title += 'HYDRAULIC HEAD FORMULATION'\n",
    "else:\n",
    "    title += 'EFFECTIVE FRESHWATER HEAD FORMULATION'\n",
    "ax.set_title(title);"
   ]
  },
  {
   "cell_type": "markdown",
   "metadata": {},
   "source": [
    "### Compare the contours"
   ]
  },
  {
   "cell_type": "code",
   "execution_count": null,
   "metadata": {},
   "outputs": [],
   "source": [
    "fig = plt.figure(figsize=(10,6))\n",
    "ax = fig.add_subplot(1, 1, 1, aspect='equal')\n",
    "xs = flopy.plot.PlotCrossSection(gwf, line={'row': 0})\n",
    "cs = xs.contour_array(conc / 35., levels=levels, colors='black', linewidths=4)\n",
    "ax.clabel(cs)\n",
    "cs = xs.contour_array(conc_swt / 35., levels=levels, colors='red', linewidths=1.5, linestyles='--')\n",
    "#ax.clabel(cs)\n",
    "\n",
    "ax.set_xlabel('DISTANCE, IN METERS')\n",
    "ax.set_ylabel('ELEVATION, IN METERS');\n",
    "ax.set_title('MODFLOW 6 - SEAWAT COMPARISON');"
   ]
  },
  {
   "cell_type": "code",
   "execution_count": null,
   "metadata": {},
   "outputs": [],
   "source": []
  }
 ],
 "metadata": {
  "kernelspec": {
   "display_name": "Python 3",
   "language": "python",
   "name": "python3"
  },
  "language_info": {
   "codemirror_mode": {
    "name": "ipython",
    "version": 3
   },
   "file_extension": ".py",
   "mimetype": "text/x-python",
   "name": "python",
   "nbconvert_exporter": "python",
   "pygments_lexer": "ipython3",
   "version": "3.7.3"
  }
 },
 "nbformat": 4,
 "nbformat_minor": 1
}
