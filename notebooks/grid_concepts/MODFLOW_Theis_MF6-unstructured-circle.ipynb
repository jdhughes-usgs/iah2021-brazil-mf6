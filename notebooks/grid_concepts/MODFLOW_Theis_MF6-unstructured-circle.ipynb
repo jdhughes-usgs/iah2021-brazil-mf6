{
 "cells": [
  {
   "cell_type": "markdown",
   "metadata": {},
   "source": [
    "# Notebook to evaluate Theis solution with one well \n",
    "# using a circular unstructured grid"
   ]
  },
  {
   "cell_type": "code",
   "execution_count": 1,
   "metadata": {},
   "outputs": [],
   "source": [
    "import numpy as np\n",
    "import flopy as fp\n",
    "import pandas as pd\n",
    "import matplotlib.pyplot as plt\n",
    "%matplotlib inline\n",
    "import os, shutil\n",
    "from matplotlib.backends.backend_pdf import PdfPages"
   ]
  },
  {
   "cell_type": "markdown",
   "metadata": {},
   "source": [
    "## Define a location and model name"
   ]
  },
  {
   "cell_type": "code",
   "execution_count": 2,
   "metadata": {},
   "outputs": [],
   "source": [
    "model_dir = 'theis_flopy_mf6_unstruc_circ'\n",
    "model_name = 'theis'"
   ]
  },
  {
   "cell_type": "markdown",
   "metadata": {},
   "source": [
    "## Set up the simulation"
   ]
  },
  {
   "cell_type": "code",
   "execution_count": 3,
   "metadata": {},
   "outputs": [],
   "source": [
    "# create simulation\n",
    "sim = fp.mf6.MFSimulation(sim_name='theis_mf6', version='mf6', exe_name='mf6', \n",
    "                             sim_ws=model_dir)\n"
   ]
  },
  {
   "cell_type": "code",
   "execution_count": 4,
   "metadata": {},
   "outputs": [],
   "source": [
    "# create tdis package\n",
    "tdis_rc = [(86400.0, 75, 1.2)]\n",
    "tdis = fp.mf6.ModflowTdis(sim, pname='tdis', time_units='DAYS', \n",
    "                             perioddata=tdis_rc)"
   ]
  },
  {
   "cell_type": "code",
   "execution_count": 5,
   "metadata": {},
   "outputs": [],
   "source": [
    "# create gwf model\n",
    "gwf = fp.mf6.ModflowGwf(sim, modelname=model_name,\n",
    "                           model_nam_file='{}.nam'.format(model_name))\n",
    "gwf.name_file.save_flows = True"
   ]
  },
  {
   "cell_type": "code",
   "execution_count": 6,
   "metadata": {},
   "outputs": [],
   "source": [
    "# create iterative model solution and register the gwf model with it\n",
    "ims = fp.mf6.ModflowIms(sim, pname='ims', print_option='SUMMARY', \n",
    "                           complexity='SIMPLE', outer_hclose=1.e-2, \n",
    "                           outer_maximum=10, under_relaxation='NONE', \n",
    "                           inner_maximum=10, inner_hclose=1.e-4, \n",
    "                           rcloserecord=0.1, linear_acceleration='BICGSTAB', \n",
    "                           scaling_method='NONE', reordering_method='NONE', \n",
    "                           relaxation_factor=0.99)"
   ]
  },
  {
   "cell_type": "code",
   "execution_count": 7,
   "metadata": {},
   "outputs": [],
   "source": [
    "sim.register_ims_package(ims, [gwf.name])\n"
   ]
  },
  {
   "cell_type": "markdown",
   "metadata": {},
   "source": [
    "## Set up a \"fake\" discritization package with a uniform grid from which we can use `gridgen` to perform refinement\n",
    "It's a bit of a kludge because we have to have a structured grid to start from but we only want to assign an ustructured grid to the `gwf` model"
   ]
  },
  {
   "cell_type": "code",
   "execution_count": 8,
   "metadata": {},
   "outputs": [],
   "source": [
    "# dis\n",
    "nlay = 1\n",
    "nrow = 51\n",
    "ncol = 51\n",
    "delr = 1925\n",
    "delc = 1925\n",
    "top = 0\n",
    "botm = -1\n",
    "simfake = fp.mf6.MFSimulation(sim_name='theis_mf6', version='mf6', exe_name='mf6', \n",
    "                             sim_ws=model_dir)\n",
    "gwffake = fp.mf6.ModflowGwf(simfake, modelname=model_name,\n",
    "                           model_nam_file='{}.nam'.format(model_name))\n",
    "dis = fp.mf6.ModflowGwfdis(gwffake, nlay=nlay, nrow=nrow, ncol=ncol,\n",
    "                              delr=delr, delc=delc,\n",
    "                              top=top, botm=botm)"
   ]
  },
  {
   "cell_type": "code",
   "execution_count": 9,
   "metadata": {},
   "outputs": [],
   "source": [
    "if os.path.exists(model_dir):\n",
    "    shutil.rmtree(model_dir)\n",
    "os.mkdir(model_dir)\n",
    "    "
   ]
  },
  {
   "cell_type": "markdown",
   "metadata": {},
   "source": [
    "### The `Gridgen` object needs the `dis` object and a couple other args"
   ]
  },
  {
   "cell_type": "code",
   "execution_count": 10,
   "metadata": {},
   "outputs": [],
   "source": [
    "from flopy.utils.gridgen import Gridgen \n",
    "g = Gridgen(dis, model_ws=model_dir, exe_name='gridgen')"
   ]
  },
  {
   "cell_type": "markdown",
   "metadata": {},
   "source": [
    "### Make a function to create a circle"
   ]
  },
  {
   "cell_type": "code",
   "execution_count": 11,
   "metadata": {},
   "outputs": [],
   "source": [
    "def make_circle(r,steps=100, cx=nrow*delr/2,cy=nrow*delr/2):\n",
    "    x = np.arange(-r,r+r/steps,r/steps)\n",
    "    y = np.sqrt(r**2-x**2)\n",
    "    x = np.hstack((x,np.flipud(x[:-1])))\n",
    "    y = np.hstack((y,-y[:-1]))\n",
    "    return x+cx,y+cy"
   ]
  },
  {
   "cell_type": "code",
   "execution_count": 12,
   "metadata": {},
   "outputs": [
    {
     "data": {
      "text/plain": [
       "(34265.0, 63910.0, 34265.0, 63910.0)"
      ]
     },
     "execution_count": 12,
     "metadata": {},
     "output_type": "execute_result"
    },
    {
     "data": {
      "image/png": "[encoded data removed]",
      "text/plain": [
       "<Figure size 432x288 with 1 Axes>"
      ]
     },
     "metadata": {
      "needs_background": "light"
     },
     "output_type": "display_data"
    }
   ],
   "source": [
    "# create circular polygons around the well for refinement\n",
    "\n",
    "x0,y0 = make_circle(7*delr)\n",
    "x1,y1 = make_circle(5*delr)\n",
    "x2,y2 = make_circle(3*delr)\n",
    "x3,y3 = make_circle(1*delr)\n",
    "plt.plot(x0,y0)\n",
    "plt.axis('square')"
   ]
  },
  {
   "cell_type": "markdown",
   "metadata": {},
   "source": [
    "## Make refinement features and map to the shapefiles that gridgen will make"
   ]
  },
  {
   "cell_type": "code",
   "execution_count": 16,
   "metadata": {},
   "outputs": [
    {
     "data": {
      "text/plain": [
       "array([35612.5 , 35747.25, 35882.  , 36016.75, 36151.5 , 36286.25,\n",
       "       36421.  , 36555.75, 36690.5 , 36825.25, 36960.  , 37094.75,\n",
       "       37229.5 , 37364.25, 37499.  , 37633.75, 37768.5 , 37903.25,\n",
       "       38038.  , 38172.75, 38307.5 , 38442.25, 38577.  , 38711.75,\n",
       "       38846.5 , 38981.25, 39116.  , 39250.75, 39385.5 , 39520.25,\n",
       "       39655.  , 39789.75, 39924.5 , 40059.25, 40194.  , 40328.75,\n",
       "       40463.5 , 40598.25, 40733.  , 40867.75, 41002.5 , 41137.25,\n",
       "       41272.  , 41406.75, 41541.5 , 41676.25, 41811.  , 41945.75,\n",
       "       42080.5 , 42215.25, 42350.  , 42484.75, 42619.5 , 42754.25,\n",
       "       42889.  , 43023.75, 43158.5 , 43293.25, 43428.  , 43562.75,\n",
       "       43697.5 , 43832.25, 43967.  , 44101.75, 44236.5 , 44371.25,\n",
       "       44506.  , 44640.75, 44775.5 , 44910.25, 45045.  , 45179.75,\n",
       "       45314.5 , 45449.25, 45584.  , 45718.75, 45853.5 , 45988.25,\n",
       "       46123.  , 46257.75, 46392.5 , 46527.25, 46662.  , 46796.75,\n",
       "       46931.5 , 47066.25, 47201.  , 47335.75, 47470.5 , 47605.25,\n",
       "       47740.  , 47874.75, 48009.5 , 48144.25, 48279.  , 48413.75,\n",
       "       48548.5 , 48683.25, 48818.  , 48952.75, 49087.5 , 49222.25,\n",
       "       49357.  , 49491.75, 49626.5 , 49761.25, 49896.  , 50030.75,\n",
       "       50165.5 , 50300.25, 50435.  , 50569.75, 50704.5 , 50839.25,\n",
       "       50974.  , 51108.75, 51243.5 , 51378.25, 51513.  , 51647.75,\n",
       "       51782.5 , 51917.25, 52052.  , 52186.75, 52321.5 , 52456.25,\n",
       "       52591.  , 52725.75, 52860.5 , 52995.25, 53130.  , 53264.75,\n",
       "       53399.5 , 53534.25, 53669.  , 53803.75, 53938.5 , 54073.25,\n",
       "       54208.  , 54342.75, 54477.5 , 54612.25, 54747.  , 54881.75,\n",
       "       55016.5 , 55151.25, 55286.  , 55420.75, 55555.5 , 55690.25,\n",
       "       55825.  , 55959.75, 56094.5 , 56229.25, 56364.  , 56498.75,\n",
       "       56633.5 , 56768.25, 56903.  , 57037.75, 57172.5 , 57307.25,\n",
       "       57442.  , 57576.75, 57711.5 , 57846.25, 57981.  , 58115.75,\n",
       "       58250.5 , 58385.25, 58520.  , 58654.75, 58789.5 , 58924.25,\n",
       "       59059.  , 59193.75, 59328.5 , 59463.25, 59598.  , 59732.75,\n",
       "       59867.5 , 60002.25, 60137.  , 60271.75, 60406.5 , 60541.25,\n",
       "       60676.  , 60810.75, 60945.5 , 61080.25, 61215.  , 61349.75,\n",
       "       61484.5 , 61619.25, 61754.  , 61888.75, 62023.5 , 62158.25,\n",
       "       62293.  , 62427.75, 62562.5 , 62427.75, 62293.  , 62158.25,\n",
       "       62023.5 , 61888.75, 61754.  , 61619.25, 61484.5 , 61349.75,\n",
       "       61215.  , 61080.25, 60945.5 , 60810.75, 60676.  , 60541.25,\n",
       "       60406.5 , 60271.75, 60137.  , 60002.25, 59867.5 , 59732.75,\n",
       "       59598.  , 59463.25, 59328.5 , 59193.75, 59059.  , 58924.25,\n",
       "       58789.5 , 58654.75, 58520.  , 58385.25, 58250.5 , 58115.75,\n",
       "       57981.  , 57846.25, 57711.5 , 57576.75, 57442.  , 57307.25,\n",
       "       57172.5 , 57037.75, 56903.  , 56768.25, 56633.5 , 56498.75,\n",
       "       56364.  , 56229.25, 56094.5 , 55959.75, 55825.  , 55690.25,\n",
       "       55555.5 , 55420.75, 55286.  , 55151.25, 55016.5 , 54881.75,\n",
       "       54747.  , 54612.25, 54477.5 , 54342.75, 54208.  , 54073.25,\n",
       "       53938.5 , 53803.75, 53669.  , 53534.25, 53399.5 , 53264.75,\n",
       "       53130.  , 52995.25, 52860.5 , 52725.75, 52591.  , 52456.25,\n",
       "       52321.5 , 52186.75, 52052.  , 51917.25, 51782.5 , 51647.75,\n",
       "       51513.  , 51378.25, 51243.5 , 51108.75, 50974.  , 50839.25,\n",
       "       50704.5 , 50569.75, 50435.  , 50300.25, 50165.5 , 50030.75,\n",
       "       49896.  , 49761.25, 49626.5 , 49491.75, 49357.  , 49222.25,\n",
       "       49087.5 , 48952.75, 48818.  , 48683.25, 48548.5 , 48413.75,\n",
       "       48279.  , 48144.25, 48009.5 , 47874.75, 47740.  , 47605.25,\n",
       "       47470.5 , 47335.75, 47201.  , 47066.25, 46931.5 , 46796.75,\n",
       "       46662.  , 46527.25, 46392.5 , 46257.75, 46123.  , 45988.25,\n",
       "       45853.5 , 45718.75, 45584.  , 45449.25, 45314.5 , 45179.75,\n",
       "       45045.  , 44910.25, 44775.5 , 44640.75, 44506.  , 44371.25,\n",
       "       44236.5 , 44101.75, 43967.  , 43832.25, 43697.5 , 43562.75,\n",
       "       43428.  , 43293.25, 43158.5 , 43023.75, 42889.  , 42754.25,\n",
       "       42619.5 , 42484.75, 42350.  , 42215.25, 42080.5 , 41945.75,\n",
       "       41811.  , 41676.25, 41541.5 , 41406.75, 41272.  , 41137.25,\n",
       "       41002.5 , 40867.75, 40733.  , 40598.25, 40463.5 , 40328.75,\n",
       "       40194.  , 40059.25, 39924.5 , 39789.75, 39655.  , 39520.25,\n",
       "       39385.5 , 39250.75, 39116.  , 38981.25, 38846.5 , 38711.75,\n",
       "       38577.  , 38442.25, 38307.5 , 38172.75, 38038.  , 37903.25,\n",
       "       37768.5 , 37633.75, 37499.  , 37364.25, 37229.5 , 37094.75,\n",
       "       36960.  , 36825.25, 36690.5 , 36555.75, 36421.  , 36286.25,\n",
       "       36151.5 , 36016.75, 35882.  , 35747.25, 35612.5 ])"
      ]
     },
     "execution_count": 16,
     "metadata": {},
     "output_type": "execute_result"
    }
   ],
   "source": [
    "x0"
   ]
  },
  {
   "cell_type": "code",
   "execution_count": 14,
   "metadata": {},
   "outputs": [
    {
     "ename": "TypeError",
     "evalue": "'numpy.float64' object is not iterable",
     "output_type": "error",
     "traceback": [
      "\u001b[0;31m---------------------------------------------------------------------------\u001b[0m",
      "\u001b[0;31mTypeError\u001b[0m                                 Traceback (most recent call last)",
      "\u001b[0;32m<ipython-input-14-386f103c08f1>\u001b[0m in \u001b[0;36m<module>\u001b[0;34m\u001b[0m\n\u001b[0;32m----> 1\u001b[0;31m \u001b[0mg\u001b[0m\u001b[0;34m.\u001b[0m\u001b[0madd_refinement_features\u001b[0m\u001b[0;34m(\u001b[0m\u001b[0;34m[\u001b[0m\u001b[0;34m[\u001b[0m\u001b[0;34m*\u001b[0m\u001b[0mlist\u001b[0m\u001b[0;34m(\u001b[0m\u001b[0mzip\u001b[0m\u001b[0;34m(\u001b[0m\u001b[0mx0\u001b[0m\u001b[0;34m,\u001b[0m\u001b[0my0\u001b[0m\u001b[0;34m)\u001b[0m\u001b[0;34m)\u001b[0m\u001b[0;34m]\u001b[0m\u001b[0;34m]\u001b[0m\u001b[0;34m,\u001b[0m \u001b[0;34m'polygon'\u001b[0m\u001b[0;34m,\u001b[0m \u001b[0;36m1\u001b[0m\u001b[0;34m,\u001b[0m \u001b[0mrange\u001b[0m\u001b[0;34m(\u001b[0m\u001b[0mnlay\u001b[0m\u001b[0;34m)\u001b[0m\u001b[0;34m)\u001b[0m\u001b[0;34m\u001b[0m\u001b[0;34m\u001b[0m\u001b[0m\n\u001b[0m\u001b[1;32m      2\u001b[0m \u001b[0mrf0shp\u001b[0m \u001b[0;34m=\u001b[0m \u001b[0mos\u001b[0m\u001b[0;34m.\u001b[0m\u001b[0mpath\u001b[0m\u001b[0;34m.\u001b[0m\u001b[0mjoin\u001b[0m\u001b[0;34m(\u001b[0m\u001b[0mmodel_dir\u001b[0m\u001b[0;34m,\u001b[0m \u001b[0;34m'rf0'\u001b[0m\u001b[0;34m)\u001b[0m\u001b[0;34m\u001b[0m\u001b[0;34m\u001b[0m\u001b[0m\n\u001b[1;32m      3\u001b[0m \u001b[0;34m\u001b[0m\u001b[0m\n\u001b[1;32m      4\u001b[0m \u001b[0mg\u001b[0m\u001b[0;34m.\u001b[0m\u001b[0madd_refinement_features\u001b[0m\u001b[0;34m(\u001b[0m\u001b[0;34m[\u001b[0m\u001b[0;34m[\u001b[0m\u001b[0;34m*\u001b[0m\u001b[0mlist\u001b[0m\u001b[0;34m(\u001b[0m\u001b[0mzip\u001b[0m\u001b[0;34m(\u001b[0m\u001b[0mx1\u001b[0m\u001b[0;34m,\u001b[0m\u001b[0my1\u001b[0m\u001b[0;34m)\u001b[0m\u001b[0;34m)\u001b[0m\u001b[0;34m]\u001b[0m\u001b[0;34m]\u001b[0m\u001b[0;34m,\u001b[0m \u001b[0;34m'polygon'\u001b[0m\u001b[0;34m,\u001b[0m \u001b[0;36m2\u001b[0m\u001b[0;34m,\u001b[0m \u001b[0mrange\u001b[0m\u001b[0;34m(\u001b[0m\u001b[0mnlay\u001b[0m\u001b[0;34m)\u001b[0m\u001b[0;34m)\u001b[0m\u001b[0;34m\u001b[0m\u001b[0;34m\u001b[0m\u001b[0m\n\u001b[1;32m      5\u001b[0m \u001b[0mrf1shp\u001b[0m \u001b[0;34m=\u001b[0m \u001b[0mos\u001b[0m\u001b[0;34m.\u001b[0m\u001b[0mpath\u001b[0m\u001b[0;34m.\u001b[0m\u001b[0mjoin\u001b[0m\u001b[0;34m(\u001b[0m\u001b[0mmodel_dir\u001b[0m\u001b[0;34m,\u001b[0m \u001b[0;34m'rf1'\u001b[0m\u001b[0;34m)\u001b[0m\u001b[0;34m\u001b[0m\u001b[0;34m\u001b[0m\u001b[0m\n",
      "\u001b[0;32m~/Documents/GIT/flopy/flopy/utils/gridgen.py\u001b[0m in \u001b[0;36madd_refinement_features\u001b[0;34m(self, features, featuretype, level, layers)\u001b[0m\n\u001b[1;32m    409\u001b[0m         \u001b[0;32mif\u001b[0m \u001b[0misinstance\u001b[0m\u001b[0;34m(\u001b[0m\u001b[0mfeatures\u001b[0m\u001b[0;34m,\u001b[0m \u001b[0mlist\u001b[0m\u001b[0;34m)\u001b[0m\u001b[0;34m:\u001b[0m\u001b[0;34m\u001b[0m\u001b[0;34m\u001b[0m\u001b[0m\n\u001b[1;32m    410\u001b[0m             \u001b[0mrfname_w_path\u001b[0m \u001b[0;34m=\u001b[0m \u001b[0mos\u001b[0m\u001b[0;34m.\u001b[0m\u001b[0mpath\u001b[0m\u001b[0;34m.\u001b[0m\u001b[0mjoin\u001b[0m\u001b[0;34m(\u001b[0m\u001b[0mself\u001b[0m\u001b[0;34m.\u001b[0m\u001b[0mmodel_ws\u001b[0m\u001b[0;34m,\u001b[0m \u001b[0mrfname\u001b[0m\u001b[0;34m)\u001b[0m\u001b[0;34m\u001b[0m\u001b[0;34m\u001b[0m\u001b[0m\n\u001b[0;32m--> 411\u001b[0;31m             \u001b[0mfeatures_to_shapefile\u001b[0m\u001b[0;34m(\u001b[0m\u001b[0mfeatures\u001b[0m\u001b[0;34m,\u001b[0m \u001b[0mfeaturetype\u001b[0m\u001b[0;34m,\u001b[0m \u001b[0mrfname_w_path\u001b[0m\u001b[0;34m)\u001b[0m\u001b[0;34m\u001b[0m\u001b[0;34m\u001b[0m\u001b[0m\n\u001b[0m\u001b[1;32m    412\u001b[0m             \u001b[0mshapefile\u001b[0m \u001b[0;34m=\u001b[0m \u001b[0mrfname\u001b[0m\u001b[0;34m\u001b[0m\u001b[0;34m\u001b[0m\u001b[0m\n\u001b[1;32m    413\u001b[0m         \u001b[0;32melse\u001b[0m\u001b[0;34m:\u001b[0m\u001b[0;34m\u001b[0m\u001b[0;34m\u001b[0m\u001b[0m\n",
      "\u001b[0;32m~/Documents/GIT/flopy/flopy/utils/gridgen.py\u001b[0m in \u001b[0;36mfeatures_to_shapefile\u001b[0;34m(features, featuretype, filename)\u001b[0m\n\u001b[1;32m     66\u001b[0m         \u001b[0mfeaturetype\u001b[0m \u001b[0;34m=\u001b[0m \u001b[0;34m\"LineString\"\u001b[0m\u001b[0;34m\u001b[0m\u001b[0;34m\u001b[0m\u001b[0m\n\u001b[1;32m     67\u001b[0m \u001b[0;34m\u001b[0m\u001b[0m\n\u001b[0;32m---> 68\u001b[0;31m     \u001b[0mfeatures\u001b[0m \u001b[0;34m=\u001b[0m \u001b[0mGeoSpatialCollection\u001b[0m\u001b[0;34m(\u001b[0m\u001b[0mfeatures\u001b[0m\u001b[0;34m,\u001b[0m \u001b[0mfeaturetype\u001b[0m\u001b[0;34m)\u001b[0m\u001b[0;34m.\u001b[0m\u001b[0mflopy_geometry\u001b[0m\u001b[0;34m\u001b[0m\u001b[0;34m\u001b[0m\u001b[0m\n\u001b[0m\u001b[1;32m     69\u001b[0m \u001b[0;34m\u001b[0m\u001b[0m\n\u001b[1;32m     70\u001b[0m     if featuretype.lower() not in [\n",
      "\u001b[0;32m~/Documents/GIT/flopy/flopy/utils/geospatial_utils.py\u001b[0m in \u001b[0;36mflopy_geometry\u001b[0;34m(self)\u001b[0m\n\u001b[1;32m    431\u001b[0m         \u001b[0;32mif\u001b[0m \u001b[0mself\u001b[0m\u001b[0;34m.\u001b[0m\u001b[0m_flopy_geometry\u001b[0m \u001b[0;32mis\u001b[0m \u001b[0;32mNone\u001b[0m\u001b[0;34m:\u001b[0m\u001b[0;34m\u001b[0m\u001b[0;34m\u001b[0m\u001b[0m\n\u001b[1;32m    432\u001b[0m             self._flopy_geometry = Collection(\n\u001b[0;32m--> 433\u001b[0;31m                 \u001b[0;34m[\u001b[0m\u001b[0mi\u001b[0m\u001b[0;34m.\u001b[0m\u001b[0mflopy_geometry\u001b[0m \u001b[0;32mfor\u001b[0m \u001b[0mi\u001b[0m \u001b[0;32min\u001b[0m \u001b[0mself\u001b[0m\u001b[0;34m.\u001b[0m\u001b[0m__collection\u001b[0m\u001b[0;34m]\u001b[0m\u001b[0;34m\u001b[0m\u001b[0;34m\u001b[0m\u001b[0m\n\u001b[0m\u001b[1;32m    434\u001b[0m             )\n\u001b[1;32m    435\u001b[0m         \u001b[0;32mreturn\u001b[0m \u001b[0mself\u001b[0m\u001b[0;34m.\u001b[0m\u001b[0m_flopy_geometry\u001b[0m\u001b[0;34m\u001b[0m\u001b[0;34m\u001b[0m\u001b[0m\n",
      "\u001b[0;32m~/Documents/GIT/flopy/flopy/utils/geospatial_utils.py\u001b[0m in \u001b[0;36m<listcomp>\u001b[0;34m(.0)\u001b[0m\n\u001b[1;32m    431\u001b[0m         \u001b[0;32mif\u001b[0m \u001b[0mself\u001b[0m\u001b[0;34m.\u001b[0m\u001b[0m_flopy_geometry\u001b[0m \u001b[0;32mis\u001b[0m \u001b[0;32mNone\u001b[0m\u001b[0;34m:\u001b[0m\u001b[0;34m\u001b[0m\u001b[0;34m\u001b[0m\u001b[0m\n\u001b[1;32m    432\u001b[0m             self._flopy_geometry = Collection(\n\u001b[0;32m--> 433\u001b[0;31m                 \u001b[0;34m[\u001b[0m\u001b[0mi\u001b[0m\u001b[0;34m.\u001b[0m\u001b[0mflopy_geometry\u001b[0m \u001b[0;32mfor\u001b[0m \u001b[0mi\u001b[0m \u001b[0;32min\u001b[0m \u001b[0mself\u001b[0m\u001b[0;34m.\u001b[0m\u001b[0m__collection\u001b[0m\u001b[0;34m]\u001b[0m\u001b[0;34m\u001b[0m\u001b[0;34m\u001b[0m\u001b[0m\n\u001b[0m\u001b[1;32m    434\u001b[0m             )\n\u001b[1;32m    435\u001b[0m         \u001b[0;32mreturn\u001b[0m \u001b[0mself\u001b[0m\u001b[0;34m.\u001b[0m\u001b[0m_flopy_geometry\u001b[0m\u001b[0;34m\u001b[0m\u001b[0;34m\u001b[0m\u001b[0m\n",
      "\u001b[0;32m~/Documents/GIT/flopy/flopy/utils/geospatial_utils.py\u001b[0m in \u001b[0;36mflopy_geometry\u001b[0;34m(self)\u001b[0m\n\u001b[1;32m    228\u001b[0m         \"\"\"\n\u001b[1;32m    229\u001b[0m         \u001b[0;32mif\u001b[0m \u001b[0mself\u001b[0m\u001b[0;34m.\u001b[0m\u001b[0m_flopy_geometry\u001b[0m \u001b[0;32mis\u001b[0m \u001b[0;32mNone\u001b[0m\u001b[0;34m:\u001b[0m\u001b[0;34m\u001b[0m\u001b[0;34m\u001b[0m\u001b[0m\n\u001b[0;32m--> 230\u001b[0;31m             \u001b[0mself\u001b[0m\u001b[0;34m.\u001b[0m\u001b[0m_flopy_geometry\u001b[0m \u001b[0;34m=\u001b[0m \u001b[0mShape\u001b[0m\u001b[0;34m.\u001b[0m\u001b[0mfrom_geojson\u001b[0m\u001b[0;34m(\u001b[0m\u001b[0mself\u001b[0m\u001b[0;34m.\u001b[0m\u001b[0m__geo_interface\u001b[0m\u001b[0;34m)\u001b[0m\u001b[0;34m\u001b[0m\u001b[0;34m\u001b[0m\u001b[0m\n\u001b[0m\u001b[1;32m    231\u001b[0m         \u001b[0;32mreturn\u001b[0m \u001b[0mself\u001b[0m\u001b[0;34m.\u001b[0m\u001b[0m_flopy_geometry\u001b[0m\u001b[0;34m\u001b[0m\u001b[0;34m\u001b[0m\u001b[0m\n\u001b[1;32m    232\u001b[0m \u001b[0;34m\u001b[0m\u001b[0m\n",
      "\u001b[0;32m~/Documents/GIT/flopy/flopy/utils/geometry.py\u001b[0m in \u001b[0;36mfrom_geojson\u001b[0;34m(geo_interface)\u001b[0m\n\u001b[1;32m    122\u001b[0m                     \u001b[0minteriors\u001b[0m \u001b[0;34m=\u001b[0m \u001b[0mcoords\u001b[0m\u001b[0;34m[\u001b[0m\u001b[0;36m1\u001b[0m\u001b[0;34m:\u001b[0m\u001b[0;34m]\u001b[0m\u001b[0;34m\u001b[0m\u001b[0;34m\u001b[0m\u001b[0m\n\u001b[1;32m    123\u001b[0m \u001b[0;34m\u001b[0m\u001b[0m\n\u001b[0;32m--> 124\u001b[0;31m                 \u001b[0mgeoms\u001b[0m\u001b[0;34m.\u001b[0m\u001b[0mappend\u001b[0m\u001b[0;34m(\u001b[0m\u001b[0mPolygon\u001b[0m\u001b[0;34m(\u001b[0m\u001b[0mexteriors\u001b[0m\u001b[0;34m,\u001b[0m \u001b[0minteriors\u001b[0m\u001b[0;34m)\u001b[0m\u001b[0;34m)\u001b[0m\u001b[0;34m\u001b[0m\u001b[0;34m\u001b[0m\u001b[0m\n\u001b[0m\u001b[1;32m    125\u001b[0m \u001b[0;34m\u001b[0m\u001b[0m\n\u001b[1;32m    126\u001b[0m             \u001b[0;32mif\u001b[0m \u001b[0mlen\u001b[0m\u001b[0;34m(\u001b[0m\u001b[0mgeoms\u001b[0m\u001b[0;34m)\u001b[0m \u001b[0;34m==\u001b[0m \u001b[0;36m1\u001b[0m\u001b[0;34m:\u001b[0m\u001b[0;34m\u001b[0m\u001b[0;34m\u001b[0m\u001b[0m\n",
      "\u001b[0;32m~/Documents/GIT/flopy/flopy/utils/geometry.py\u001b[0m in \u001b[0;36m__init__\u001b[0;34m(self, exterior, interiors)\u001b[0m\n\u001b[1;32m    349\u001b[0m         \u001b[0mz\u001b[0m \u001b[0minformation\u001b[0m \u001b[0;32mis\u001b[0m \u001b[0monly\u001b[0m \u001b[0mstored\u001b[0m \u001b[0;32mif\u001b[0m \u001b[0mit\u001b[0m \u001b[0mwas\u001b[0m \u001b[0mentered\u001b[0m\u001b[0;34m.\u001b[0m\u001b[0;34m\u001b[0m\u001b[0;34m\u001b[0m\u001b[0m\n\u001b[1;32m    350\u001b[0m         \"\"\"\n\u001b[0;32m--> 351\u001b[0;31m         super(Polygon, self).__init__(\n\u001b[0m\u001b[1;32m    352\u001b[0m             \u001b[0mself\u001b[0m\u001b[0;34m.\u001b[0m\u001b[0mtype\u001b[0m\u001b[0;34m,\u001b[0m\u001b[0;34m\u001b[0m\u001b[0;34m\u001b[0m\u001b[0m\n\u001b[1;32m    353\u001b[0m             \u001b[0mcoordinates\u001b[0m\u001b[0;34m=\u001b[0m\u001b[0;32mNone\u001b[0m\u001b[0;34m,\u001b[0m\u001b[0;34m\u001b[0m\u001b[0;34m\u001b[0m\u001b[0m\n",
      "\u001b[0;32m~/Documents/GIT/flopy/flopy/utils/geometry.py\u001b[0m in \u001b[0;36m__init__\u001b[0;34m(self, shapetype, coordinates, exterior, interiors)\u001b[0m\n\u001b[1;32m     32\u001b[0m \u001b[0;34m\u001b[0m\u001b[0m\n\u001b[1;32m     33\u001b[0m         \u001b[0;32mif\u001b[0m \u001b[0mshapetype\u001b[0m \u001b[0;34m==\u001b[0m \u001b[0;34m\"Polygon\"\u001b[0m\u001b[0;34m:\u001b[0m\u001b[0;34m\u001b[0m\u001b[0;34m\u001b[0m\u001b[0m\n\u001b[0;32m---> 34\u001b[0;31m             \u001b[0mself\u001b[0m\u001b[0;34m.\u001b[0m\u001b[0mexterior\u001b[0m \u001b[0;34m=\u001b[0m \u001b[0mtuple\u001b[0m\u001b[0;34m(\u001b[0m\u001b[0mmap\u001b[0m\u001b[0;34m(\u001b[0m\u001b[0mtuple\u001b[0m\u001b[0;34m,\u001b[0m \u001b[0mexterior\u001b[0m\u001b[0;34m)\u001b[0m\u001b[0;34m)\u001b[0m\u001b[0;34m\u001b[0m\u001b[0;34m\u001b[0m\u001b[0m\n\u001b[0m\u001b[1;32m     35\u001b[0m             self.interiors = (\n\u001b[1;32m     36\u001b[0m                 \u001b[0mtuple\u001b[0m\u001b[0;34m(\u001b[0m\u001b[0;34m)\u001b[0m\u001b[0;34m\u001b[0m\u001b[0;34m\u001b[0m\u001b[0m\n",
      "\u001b[0;31mTypeError\u001b[0m: 'numpy.float64' object is not iterable"
     ]
    }
   ],
   "source": [
    "g.add_refinement_features([[list(zip(x0,y0))]], 'polygon', 1, range(nlay))\n",
    "rf0shp = os.path.join(model_dir, 'rf0')\n",
    "\n",
    "g.add_refinement_features([[*list(zip(x1,y1))]], 'polygon', 2, range(nlay))\n",
    "rf1shp = os.path.join(model_dir, 'rf1')\n",
    "\n",
    "g.add_refinement_features([[*list(zip(x2,y2))]], 'polygon', 3, range(nlay))\n",
    "rf2shp = os.path.join(model_dir, 'rf2')\n",
    "\n",
    "g.add_refinement_features([[*list(zip(x3,y3))]], 'polygon', 4, range(nlay))\n",
    "rf3shp = os.path.join(model_dir, 'rf3')\n"
   ]
  },
  {
   "cell_type": "markdown",
   "metadata": {},
   "source": [
    "## let's take a look at the refinement levels"
   ]
  },
  {
   "cell_type": "code",
   "execution_count": null,
   "metadata": {},
   "outputs": [],
   "source": [
    "fig = plt.figure(figsize=(9, 9))\n",
    "ax = fig.add_subplot(1, 1, 1, aspect='equal')\n",
    "mm = fp.plot.PlotMapView(model=gwffake)#, extent = (30 * delr,70 * delr,30 * delc, 70 * delc))\n",
    "mm.plot_grid()\n",
    "fp.plot.plot_shapefile(rf0shp, ax=ax, facecolor='blue', edgecolor='none')\n",
    "fp.plot.plot_shapefile(rf1shp, ax=ax, facecolor='yellow', edgecolor='none')\n",
    "fp.plot.plot_shapefile(rf2shp, ax=ax, facecolor='pink', edgecolor='none')\n",
    "fp.plot.plot_shapefile(rf3shp, ax=ax, facecolor='red', edgecolor='none')"
   ]
  },
  {
   "cell_type": "markdown",
   "metadata": {},
   "source": [
    "## Now build the grid using the `build()` method on the `Gridgen` object"
   ]
  },
  {
   "cell_type": "code",
   "execution_count": null,
   "metadata": {},
   "outputs": [],
   "source": [
    "g.build()"
   ]
  },
  {
   "cell_type": "markdown",
   "metadata": {},
   "source": [
    "### ... and plot up the refined grid"
   ]
  },
  {
   "cell_type": "code",
   "execution_count": null,
   "metadata": {},
   "outputs": [],
   "source": [
    "fig = plt.figure(figsize=(8, 8))\n",
    "ax = fig.add_subplot(1, 1, 1, aspect='equal')\n",
    "g.plot(ax, linewidth=0.5)\n",
    "plt.xlim((21*delr,31*delr))\n",
    "plt.ylim((31*delc,21*delc))"
   ]
  },
  {
   "cell_type": "markdown",
   "metadata": {},
   "source": [
    "### `gridgen` will provide all the properties we will need to define a `disv` discretization object"
   ]
  },
  {
   "cell_type": "code",
   "execution_count": null,
   "metadata": {},
   "outputs": [],
   "source": [
    "gridprops = g.get_gridprops_disv()\n",
    "ncpl = gridprops['ncpl']\n",
    "top = gridprops['top']\n",
    "botm = gridprops['botm']\n",
    "nvert = gridprops['nvert']\n",
    "vertices = gridprops['vertices']\n",
    "cell2d = gridprops['cell2d']\n"
   ]
  },
  {
   "cell_type": "code",
   "execution_count": null,
   "metadata": {},
   "outputs": [],
   "source": [
    "# initial conditions\n",
    "ic = fp.mf6.ModflowGwfic(gwf, pname='ic', strt=0.)"
   ]
  },
  {
   "cell_type": "code",
   "execution_count": null,
   "metadata": {},
   "outputs": [],
   "source": [
    "ic"
   ]
  },
  {
   "cell_type": "code",
   "execution_count": null,
   "metadata": {},
   "outputs": [],
   "source": [
    "dis"
   ]
  },
  {
   "cell_type": "code",
   "execution_count": null,
   "metadata": {},
   "outputs": [],
   "source": [
    "# disv\n",
    "disv = fp.mf6.ModflowGwfdisv(gwf, nlay=nlay, ncpl=ncpl, \n",
    "                                top=0, botm=botm, \n",
    "                                nvert=nvert, vertices=vertices, \n",
    "                                cell2d=cell2d)"
   ]
  },
  {
   "cell_type": "markdown",
   "metadata": {},
   "source": [
    "### `cell2d` is a list of tuples containing node information including number, x,y, and connections"
   ]
  },
  {
   "cell_type": "code",
   "execution_count": null,
   "metadata": {},
   "outputs": [],
   "source": [
    "cell2d"
   ]
  },
  {
   "cell_type": "markdown",
   "metadata": {},
   "source": [
    "## We can use a little trickery to find all the edge cells at which we will apply a constant head value, pulling values from `cell2d` at the x and y coordinates of the edges of the domain"
   ]
  },
  {
   "cell_type": "code",
   "execution_count": null,
   "metadata": {},
   "outputs": [],
   "source": [
    "chd_spd = [i for i in cell2d if i[1] == delr/2] + \\\n",
    "[i for i in cell2d if i[2] == delr/2] + \\\n",
    "[i for i in cell2d if i[1] == ((nrow * delr-1)+delr/2)] + \\\n",
    "[i for i in cell2d if i[2] == ((nrow * delr-1)+delr/2)] \n"
   ]
  },
  {
   "cell_type": "code",
   "execution_count": null,
   "metadata": {
    "scrolled": true
   },
   "outputs": [],
   "source": [
    "chd_spd"
   ]
  },
  {
   "cell_type": "markdown",
   "metadata": {},
   "source": [
    "## A little more trickery - use `list(set())` to remove duplicates (at corners from above)\n",
    "## Then set up the list of layers, nodenumbers, and chd values that will supply the chd package"
   ]
  },
  {
   "cell_type": "code",
   "execution_count": null,
   "metadata": {},
   "outputs": [],
   "source": [
    "print(len(chd_spd))\n",
    "chd_spd = list(set(chd_spd))\n",
    "chd_spd = [[[0,i[0]],0] for i in chd_spd]\n",
    "print(len(chd_spd))\n"
   ]
  },
  {
   "cell_type": "code",
   "execution_count": null,
   "metadata": {
    "scrolled": true
   },
   "outputs": [],
   "source": [
    "chd_spd"
   ]
  },
  {
   "cell_type": "markdown",
   "metadata": {},
   "source": [
    "### We need a few more packages defined to run this"
   ]
  },
  {
   "cell_type": "code",
   "execution_count": null,
   "metadata": {},
   "outputs": [],
   "source": [
    "chd = fp.mf6.ModflowGwfchd(gwf, save_flows=True,stress_period_data = chd_spd)"
   ]
  },
  {
   "cell_type": "code",
   "execution_count": null,
   "metadata": {},
   "outputs": [],
   "source": [
    "# npf \n",
    "hk=0.3\n",
    "\n",
    "# node property flow\n",
    "npf = fp.mf6.ModflowGwfnpf(gwf, save_specific_discharge=True,\n",
    "                              icelltype=[0], \n",
    "                              k=[hk],\n",
    "                              k33=[hk])"
   ]
  },
  {
   "cell_type": "code",
   "execution_count": null,
   "metadata": {},
   "outputs": [],
   "source": [
    "# storage\n",
    "ss=0.0008\n",
    "stor = fp.mf6.ModflowGwfsto(gwf, ss=ss, transient=True)"
   ]
  },
  {
   "cell_type": "markdown",
   "metadata": {},
   "source": [
    "## Now we need to find the center cell into which to place our pumping well"
   ]
  },
  {
   "cell_type": "code",
   "execution_count": null,
   "metadata": {},
   "outputs": [],
   "source": [
    "x = [i[1] for i in cell2d]\n",
    "y = [i[2] for i in cell2d]\n",
    "xc= x==np.median(x)\n",
    "yc =y==np.median(y)"
   ]
  },
  {
   "cell_type": "code",
   "execution_count": null,
   "metadata": {},
   "outputs": [],
   "source": [
    "center_cell = gwf.modelgrid.intersect(np.median(x),np.median(y))"
   ]
  },
  {
   "cell_type": "code",
   "execution_count": null,
   "metadata": {},
   "outputs": [],
   "source": [
    "# single well in the center\n",
    "well_sp = [[(0, center_cell), -1.16]]\n",
    "wel = fp.mf6.ModflowGwfwel(gwf,save_flows=True,stress_period_data=well_sp)"
   ]
  },
  {
   "cell_type": "code",
   "execution_count": null,
   "metadata": {},
   "outputs": [],
   "source": [
    "# output control\n",
    "oc = fp.mf6.ModflowGwfoc(gwf, pname='oc', budget_filerecord='{}.cbc'.format(model_name),\n",
    "                            head_filerecord='{}.hds'.format(model_name),\n",
    "                            headprintrecord=[('COLUMNS', 10, 'WIDTH', 15,\n",
    "                                              'DIGITS', 6, 'GENERAL')],\n",
    "                            saverecord=[('HEAD', 'ALL'), ('BUDGET', 'ALL')],\n",
    "                            printrecord=[('HEAD', 'ALL'), ('BUDGET', 'ALL')])"
   ]
  },
  {
   "cell_type": "markdown",
   "metadata": {},
   "source": [
    "## Now write the output and run"
   ]
  },
  {
   "cell_type": "code",
   "execution_count": null,
   "metadata": {
    "scrolled": true
   },
   "outputs": [],
   "source": [
    "sim.write_simulation()\n",
    "sim.run_simulation()"
   ]
  },
  {
   "cell_type": "markdown",
   "metadata": {},
   "source": [
    "## read in the head values and plot them"
   ]
  },
  {
   "cell_type": "code",
   "execution_count": null,
   "metadata": {},
   "outputs": [],
   "source": [
    "fname = os.path.join(model_dir, model_name + '.hds')\n",
    "hdobj = fp.utils.HeadFile(fname)\n",
    "head = hdobj.get_alldata()"
   ]
  },
  {
   "cell_type": "code",
   "execution_count": null,
   "metadata": {},
   "outputs": [],
   "source": [
    "head.shape"
   ]
  },
  {
   "cell_type": "code",
   "execution_count": null,
   "metadata": {},
   "outputs": [],
   "source": [
    "fig = plt.figure(figsize=(8, 8))\n",
    "ax = fig.add_subplot(1, 1, 1, aspect='equal')\n",
    "mm = fp.plot.PlotMapView(gwf, ax=ax)\n",
    "xmid,ymid = cell2d[center_cell][1],cell2d[center_cell][2]\n",
    "v=mm.plot_array(head[74,0,0:])\n",
    "plt.xlim((xmid-2550,xmid+2500))\n",
    "plt.ylim((ymid-2000,ymid+2100))\n",
    "plt.colorbar(v, shrink=.50)\n"
   ]
  },
  {
   "cell_type": "code",
   "execution_count": null,
   "metadata": {},
   "outputs": [],
   "source": [
    "# turn on XT3D in npf package to compare results\n",
    "gwf.npf.xt3doptions=True\n",
    "gwf"
   ]
  },
  {
   "cell_type": "markdown",
   "metadata": {},
   "source": [
    "### Write and run now with XT3D enabled"
   ]
  },
  {
   "cell_type": "code",
   "execution_count": null,
   "metadata": {},
   "outputs": [],
   "source": [
    "sim.write_simulation()\n",
    "sim.run_simulation()"
   ]
  },
  {
   "cell_type": "markdown",
   "metadata": {},
   "source": [
    "### Read in the heads again with XT3D and look at the difference on the final timestep"
   ]
  },
  {
   "cell_type": "code",
   "execution_count": null,
   "metadata": {},
   "outputs": [],
   "source": [
    "fname = os.path.join(model_dir, model_name + '.hds')\n",
    "hdobj2 = fp.utils.HeadFile(fname)\n",
    "head2 = hdobj2.get_alldata()"
   ]
  },
  {
   "cell_type": "code",
   "execution_count": null,
   "metadata": {},
   "outputs": [],
   "source": [
    "fig = plt.figure(figsize=(8, 8))\n",
    "ax = fig.add_subplot(1, 1, 1, aspect='equal')\n",
    "mm = fp.plot.PlotMapView(gwf, ax=ax)\n",
    "xmid,ymid = cell2d[center_cell][1],cell2d[center_cell][2]\n",
    "v=mm.plot_array(head[74,0,0:]-head2[74,0,0:])\n",
    "plt.xlim((xmid-2550,xmid+2550))\n",
    "plt.ylim((ymid-2100,ymid+2100))\n",
    "plt.colorbar(v)"
   ]
  },
  {
   "cell_type": "markdown",
   "metadata": {},
   "source": [
    "## Now we can compare with our analytical solution\n",
    "### First let's get the times from the head file to be sure we align times correctly"
   ]
  },
  {
   "cell_type": "code",
   "execution_count": null,
   "metadata": {},
   "outputs": [],
   "source": [
    "alltimes = hdobj.get_times()"
   ]
  },
  {
   "cell_type": "markdown",
   "metadata": {},
   "source": [
    "### Then import and run the Theis script"
   ]
  },
  {
   "cell_type": "code",
   "execution_count": null,
   "metadata": {},
   "outputs": [],
   "source": [
    "import theis_script2"
   ]
  },
  {
   "cell_type": "code",
   "execution_count": null,
   "metadata": {
    "scrolled": true
   },
   "outputs": [],
   "source": [
    "dd_analytical = theis_script2.theis_analytical(alltimes)"
   ]
  },
  {
   "cell_type": "markdown",
   "metadata": {},
   "source": [
    "## Plot a PDF with one time step per page"
   ]
  },
  {
   "cell_type": "code",
   "execution_count": null,
   "metadata": {},
   "outputs": [],
   "source": [
    "if os.path.exists('tmp_images'):\n",
    "    shutil.rmtree('tmp_images')\n",
    "os.mkdir('tmp_images')\n",
    "# make a temporary directory for the images."
   ]
  },
  {
   "cell_type": "code",
   "execution_count": null,
   "metadata": {},
   "outputs": [],
   "source": [
    "with PdfPages('theis_modflow_unstructured_circ_analytical.pdf') as pdfout:\n",
    "    for i in range(len(alltimes)):\n",
    "        # plot the MODFLOW6 head field\n",
    "        fig = plt.figure(figsize=(8,8))\n",
    "        ax = fig.add_subplot(121)\n",
    "        mm = fp.plot.PlotMapView(gwf, ax=ax)\n",
    "        ax.set_aspect('equal')\n",
    "        xmid,ymid = cell2d[center_cell][1],cell2d[center_cell][2]\n",
    "        v=mm.plot_array(-head[i,0,:],vmin=0,vmax=1.7, cmap='magma')\n",
    "        ax.set_xlim((xmid-1050,xmid+1050))\n",
    "        ax.set_ylim((ymid-1050,ymid+1050))\n",
    "        plt.title('MODFLOW6 Unstructured')\n",
    "\n",
    "        # plot the analytical solution\n",
    "        fig.add_subplot(122)\n",
    "        plt.imshow(dd_analytical[i], interpolation='nearest',\n",
    "                  vmin=0,\n",
    "                  vmax=1.7, cmap='magma')\n",
    "        plt.title('Analytical')\n",
    "        plt.suptitle('Theis two ways: timestep = {0}'.format(i+1))\n",
    "        plt.tight_layout()\n",
    "        \n",
    "        pdfout.savefig()\n",
    "        plt.savefig('tmp_images/{0}.png'.format(i))\n",
    "        \n",
    "        plt.close()"
   ]
  },
  {
   "cell_type": "markdown",
   "metadata": {},
   "source": [
    "## Or we can make a movie using `ffmpeg`"
   ]
  },
  {
   "cell_type": "code",
   "execution_count": null,
   "metadata": {},
   "outputs": [],
   "source": [
    "# make a .mpeg\n",
    "import imageio\n",
    "import imageio_ffmpeg\n",
    "\n",
    "mp4_path = 'modflow_theis_unstruc_circ.mp4'\n",
    "frames_path = 'tmp_images/{i}.png'\n",
    "\n",
    "with imageio.get_writer(mp4_path, mode='I') as writer:\n",
    "    for i in range(len(alltimes)):\n",
    "        writer.append_data(imageio.imread(frames_path.format(i=i)))"
   ]
  },
  {
   "cell_type": "markdown",
   "metadata": {},
   "source": [
    "### We can also evaluate the errors with and without `xt3d` over simulation time"
   ]
  },
  {
   "cell_type": "code",
   "execution_count": null,
   "metadata": {},
   "outputs": [],
   "source": [
    "with PdfPages('errors_circular.pdf') as pdfout:\n",
    "    for i in range(len(alltimes)):\n",
    "        fig = plt.figure(figsize=(8, 8))\n",
    "        ax = fig.add_subplot(1, 1, 1, aspect='equal')\n",
    "        mm = fp.plot.PlotMapView(gwf, ax=ax)\n",
    "        xmid,ymid = cell2d[center_cell][1],cell2d[center_cell][2]\n",
    "        v=mm.plot_array(head[i,0,0:]-head2[i,0,0:])\n",
    "        plt.xlim((xmid-2550,xmid+2550))\n",
    "        plt.ylim((ymid-2100,ymid+2100))\n",
    "        plt.colorbar(v, shrink=0.5)\n",
    "        plt.title('errors')\n",
    "        plt.tight_layout()\n",
    "        \n",
    "        pdfout.savefig()\n",
    "        plt.close()"
   ]
  }
 ],
 "metadata": {
  "kernelspec": {
   "display_name": "Python 3",
   "language": "python",
   "name": "python3"
  },
  "language_info": {
   "codemirror_mode": {
    "name": "ipython",
    "version": 3
   },
   "file_extension": ".py",
   "mimetype": "text/x-python",
   "name": "python",
   "nbconvert_exporter": "python",
   "pygments_lexer": "ipython3",
   "version": "3.8.6"
  }
 },
 "nbformat": 4,
 "nbformat_minor": 2
}
