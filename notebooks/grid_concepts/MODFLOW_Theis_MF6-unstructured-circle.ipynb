{
 "cells": [
  {
   "cell_type": "markdown",
   "metadata": {},
   "source": [
    "# Notebook to evaluate Theis solution with one well \n",
    "# using a circular unstructured grid"
   ]
  },
  {
   "cell_type": "code",
   "execution_count": null,
   "metadata": {},
   "outputs": [],
   "source": [
    "import numpy as np\n",
    "import flopy as fp\n",
    "import pandas as pd\n",
    "import matplotlib.pyplot as plt\n",
    "%matplotlib inline\n",
    "from shapely.geometry import Polygon\n",
    "import os, shutil\n",
    "from matplotlib.backends.backend_pdf import PdfPages"
   ]
  },
  {
   "cell_type": "markdown",
   "metadata": {},
   "source": [
    "## Define a location and model name"
   ]
  },
  {
   "cell_type": "code",
   "execution_count": null,
   "metadata": {},
   "outputs": [],
   "source": [
    "model_dir = 'theis_flopy_mf6_unstruc_circ'\n",
    "model_name = 'theis'"
   ]
  },
  {
   "cell_type": "markdown",
   "metadata": {},
   "source": [
    "## Set up the simulation"
   ]
  },
  {
   "cell_type": "code",
   "execution_count": null,
   "metadata": {},
   "outputs": [],
   "source": [
    "# create simulation\n",
    "sim = fp.mf6.MFSimulation(sim_name='theis_mf6', version='mf6', exe_name='mf6', \n",
    "                             sim_ws=model_dir)\n"
   ]
  },
  {
   "cell_type": "code",
   "execution_count": null,
   "metadata": {},
   "outputs": [],
   "source": [
    "# create tdis package\n",
    "tdis_rc = [(86400.0, 75, 1.2)]\n",
    "tdis = fp.mf6.ModflowTdis(sim, pname='tdis', time_units='DAYS', \n",
    "                             perioddata=tdis_rc)"
   ]
  },
  {
   "cell_type": "code",
   "execution_count": null,
   "metadata": {},
   "outputs": [],
   "source": [
    "# create gwf model\n",
    "gwf = fp.mf6.ModflowGwf(sim, modelname=model_name,\n",
    "                           model_nam_file='{}.nam'.format(model_name))\n",
    "gwf.name_file.save_flows = True"
   ]
  },
  {
   "cell_type": "code",
   "execution_count": null,
   "metadata": {},
   "outputs": [],
   "source": [
    "# create iterative model solution and register the gwf model with it\n",
    "ims = fp.mf6.ModflowIms(sim, pname='ims', print_option='SUMMARY', \n",
    "                           complexity='SIMPLE', outer_hclose=1.e-2, \n",
    "                           outer_maximum=10, under_relaxation='NONE', \n",
    "                           inner_maximum=10, inner_hclose=1.e-4, \n",
    "                           rcloserecord=0.1, linear_acceleration='BICGSTAB', \n",
    "                           scaling_method='NONE', reordering_method='NONE', \n",
    "                           relaxation_factor=0.99)"
   ]
  },
  {
   "cell_type": "code",
   "execution_count": null,
   "metadata": {},
   "outputs": [],
   "source": [
    "sim.register_ims_package(ims, [gwf.name])\n"
   ]
  },
  {
   "cell_type": "markdown",
   "metadata": {},
   "source": [
    "## Set up a \"fake\" discritization package with a uniform grid from which we can use `gridgen` to perform refinement\n",
    "It's a bit of a kludge because we have to have a structured grid to start from but we only want to assign an ustructured grid to the `gwf` model"
   ]
  },
  {
   "cell_type": "code",
   "execution_count": null,
   "metadata": {},
   "outputs": [],
   "source": [
    "# dis\n",
    "nlay = 1\n",
    "nrow = 51\n",
    "ncol = 51\n",
    "delr = 1925\n",
    "delc = 1925\n",
    "top = 0\n",
    "botm = -1\n",
    "simfake = fp.mf6.MFSimulation(sim_name='theis_mf6', version='mf6', exe_name='mf6', \n",
    "                             sim_ws=model_dir)\n",
    "gwffake = fp.mf6.ModflowGwf(simfake, modelname=model_name,\n",
    "                           model_nam_file='{}.nam'.format(model_name))\n",
    "dis = fp.mf6.ModflowGwfdis(gwffake, nlay=nlay, nrow=nrow, ncol=ncol,\n",
    "                              delr=delr, delc=delc,\n",
    "                              top=top, botm=botm)"
   ]
  },
  {
   "cell_type": "code",
   "execution_count": null,
   "metadata": {},
   "outputs": [],
   "source": [
    "if os.path.exists(model_dir):\n",
    "    shutil.rmtree(model_dir)\n",
    "os.mkdir(model_dir)\n",
    "    "
   ]
  },
  {
   "cell_type": "markdown",
   "metadata": {},
   "source": [
    "### The `Gridgen` object needs the `dis` object and a couple other args"
   ]
  },
  {
   "cell_type": "code",
   "execution_count": null,
   "metadata": {},
   "outputs": [],
   "source": [
    "from flopy.utils.gridgen import Gridgen \n",
    "g = Gridgen(dis, model_ws=model_dir, exe_name='gridgen')"
   ]
  },
  {
   "cell_type": "markdown",
   "metadata": {},
   "source": [
    "### Make a function to create a circle"
   ]
  },
  {
   "cell_type": "code",
   "execution_count": null,
   "metadata": {},
   "outputs": [],
   "source": [
    "def make_circle(r, steps=20, cx=nrow*delr/2,cy=nrow*delr/2):\n",
    "    # theta goes from 0 to 2pi\n",
    "    theta = np.linspace(0, 2*np.pi, steps)\n",
    "\n",
    "    # the radius of the circle\n",
    "    #r = np.sqrt(0.6)\n",
    "\n",
    "    # compute x and y\n",
    "    x = r*np.cos(theta)\n",
    "    y = r*np.sin(theta)\n",
    "    return x+cx, y+cy"
   ]
  },
  {
   "cell_type": "code",
   "execution_count": null,
   "metadata": {},
   "outputs": [],
   "source": [
    "# create circular polygons around the well for refinement\n",
    "\n",
    "x0,y0 = make_circle(7*delr)\n",
    "x1,y1 = make_circle(5*delr)\n",
    "x2,y2 = make_circle(3*delr)\n",
    "x3,y3 = make_circle(1*delr)\n",
    "plt.plot(x0,y0)\n",
    "plt.axis('square')"
   ]
  },
  {
   "cell_type": "markdown",
   "metadata": {},
   "source": [
    "## Make refinement features and map to the shapefiles that gridgen will make"
   ]
  },
  {
   "cell_type": "code",
   "execution_count": null,
   "metadata": {},
   "outputs": [],
   "source": [
    "y0"
   ]
  },
  {
   "cell_type": "code",
   "execution_count": null,
   "metadata": {},
   "outputs": [],
   "source": [
    "[[list(zip(x0,y0))]]"
   ]
  },
  {
   "cell_type": "code",
   "execution_count": null,
   "metadata": {},
   "outputs": [],
   "source": [
    "g.add_refinement_features([[list(zip(x0,y0))]], 'polygon', 1, range(nlay))\n",
    "rf0shp = os.path.join(model_dir, 'rf0')\n",
    "\n",
    "g.add_refinement_features([[list(zip(x1,y1))]], 'polygon', 2, range(nlay))\n",
    "rf1shp = os.path.join(model_dir, 'rf1')\n",
    "\n",
    "g.add_refinement_features([[list(zip(x2,y2))]], 'polygon', 3, range(nlay))\n",
    "rf2shp = os.path.join(model_dir, 'rf2')\n",
    "\n",
    "g.add_refinement_features([[list(zip(x3,y3))]], 'polygon', 4, range(nlay))\n",
    "rf3shp = os.path.join(model_dir, 'rf3')\n"
   ]
  },
  {
   "cell_type": "markdown",
   "metadata": {},
   "source": [
    "## let's take a look at the refinement levels"
   ]
  },
  {
   "cell_type": "code",
   "execution_count": null,
   "metadata": {},
   "outputs": [],
   "source": [
    "fig = plt.figure(figsize=(9, 9))\n",
    "ax = fig.add_subplot(1, 1, 1, aspect='equal')\n",
    "mm = fp.plot.PlotMapView(model=gwffake)#, extent = (30 * delr,70 * delr,30 * delc, 70 * delc))\n",
    "mm.plot_grid()\n",
    "fp.plot.plot_shapefile(rf0shp, ax=ax, facecolor='blue', edgecolor='none')\n",
    "fp.plot.plot_shapefile(rf1shp, ax=ax, facecolor='yellow', edgecolor='none')\n",
    "fp.plot.plot_shapefile(rf2shp, ax=ax, facecolor='pink', edgecolor='none')\n",
    "fp.plot.plot_shapefile(rf3shp, ax=ax, facecolor='red', edgecolor='none')"
   ]
  },
  {
   "cell_type": "markdown",
   "metadata": {},
   "source": [
    "## Now build the grid using the `build()` method on the `Gridgen` object"
   ]
  },
  {
   "cell_type": "code",
   "execution_count": null,
   "metadata": {},
   "outputs": [],
   "source": [
    "g.build()"
   ]
  },
  {
   "cell_type": "markdown",
   "metadata": {},
   "source": [
    "### ... and plot up the refined grid"
   ]
  },
  {
   "cell_type": "code",
   "execution_count": null,
   "metadata": {},
   "outputs": [],
   "source": [
    "fig = plt.figure(figsize=(8, 8))\n",
    "ax = fig.add_subplot(1, 1, 1, aspect='equal')\n",
    "g.plot(ax, linewidth=0.5)\n",
    "plt.xlim((20*delr,31*delr))\n",
    "plt.ylim((31*delc,20*delc))"
   ]
  },
  {
   "cell_type": "markdown",
   "metadata": {},
   "source": [
    "### `gridgen` will provide all the properties we will need to define a `disv` discretization object"
   ]
  },
  {
   "cell_type": "code",
   "execution_count": null,
   "metadata": {},
   "outputs": [],
   "source": [
    "gridprops = g.get_gridprops_disv()\n",
    "ncpl = gridprops['ncpl']\n",
    "top = gridprops['top']\n",
    "botm = gridprops['botm']\n",
    "nvert = gridprops['nvert']\n",
    "vertices = gridprops['vertices']\n",
    "cell2d = gridprops['cell2d']\n"
   ]
  },
  {
   "cell_type": "code",
   "execution_count": null,
   "metadata": {},
   "outputs": [],
   "source": [
    "# initial conditions\n",
    "ic = fp.mf6.ModflowGwfic(gwf, pname='ic', strt=0.)"
   ]
  },
  {
   "cell_type": "code",
   "execution_count": null,
   "metadata": {},
   "outputs": [],
   "source": [
    "ic"
   ]
  },
  {
   "cell_type": "code",
   "execution_count": null,
   "metadata": {},
   "outputs": [],
   "source": [
    "dis"
   ]
  },
  {
   "cell_type": "code",
   "execution_count": null,
   "metadata": {},
   "outputs": [],
   "source": [
    "# disv\n",
    "disv = fp.mf6.ModflowGwfdisv(gwf, nlay=nlay, ncpl=ncpl, \n",
    "                                top=0, botm=botm, \n",
    "                                nvert=nvert, vertices=vertices, \n",
    "                                cell2d=cell2d)"
   ]
  },
  {
   "cell_type": "markdown",
   "metadata": {},
   "source": [
    "### `cell2d` is a list of tuples containing node information including number, x,y, and connections"
   ]
  },
  {
   "cell_type": "code",
   "execution_count": null,
   "metadata": {},
   "outputs": [],
   "source": [
    "cell2d"
   ]
  },
  {
   "cell_type": "markdown",
   "metadata": {},
   "source": [
    "## We can use a little trickery to find all the edge cells at which we will apply a constant head value, pulling values from `cell2d` at the x and y coordinates of the edges of the domain"
   ]
  },
  {
   "cell_type": "code",
   "execution_count": null,
   "metadata": {},
   "outputs": [],
   "source": [
    "chd_spd = [i for i in cell2d if i[1] == delr/2] + \\\n",
    "[i for i in cell2d if i[2] == delr/2] + \\\n",
    "[i for i in cell2d if i[1] == ((nrow * delr-1)+delr/2)] + \\\n",
    "[i for i in cell2d if i[2] == ((nrow * delr-1)+delr/2)] \n"
   ]
  },
  {
   "cell_type": "code",
   "execution_count": null,
   "metadata": {
    "scrolled": true
   },
   "outputs": [],
   "source": [
    "chd_spd"
   ]
  },
  {
   "cell_type": "markdown",
   "metadata": {},
   "source": [
    "## A little more trickery - use `list(set())` to remove duplicates (at corners from above)\n",
    "## Then set up the list of layers, nodenumbers, and chd values that will supply the chd package"
   ]
  },
  {
   "cell_type": "code",
   "execution_count": null,
   "metadata": {},
   "outputs": [],
   "source": [
    "print(len(chd_spd))\n",
    "chd_spd = list(set([tuple(i) for i in chd_spd]))\n",
    "chd_spd = [[[0,i[0]],0] for i in chd_spd]\n",
    "print(len(chd_spd))\n"
   ]
  },
  {
   "cell_type": "code",
   "execution_count": null,
   "metadata": {
    "scrolled": true
   },
   "outputs": [],
   "source": [
    "chd_spd"
   ]
  },
  {
   "cell_type": "markdown",
   "metadata": {},
   "source": [
    "### We need a few more packages defined to run this"
   ]
  },
  {
   "cell_type": "code",
   "execution_count": null,
   "metadata": {},
   "outputs": [],
   "source": [
    "chd = fp.mf6.ModflowGwfchd(gwf, save_flows=True,stress_period_data = chd_spd)"
   ]
  },
  {
   "cell_type": "code",
   "execution_count": null,
   "metadata": {},
   "outputs": [],
   "source": [
    "# npf \n",
    "hk=0.3\n",
    "\n",
    "# node property flow\n",
    "npf = fp.mf6.ModflowGwfnpf(gwf, save_specific_discharge=True,\n",
    "                              icelltype=[0], \n",
    "                              k=[hk],\n",
    "                              k33=[hk])"
   ]
  },
  {
   "cell_type": "code",
   "execution_count": null,
   "metadata": {},
   "outputs": [],
   "source": [
    "# storage\n",
    "ss=0.0008\n",
    "stor = fp.mf6.ModflowGwfsto(gwf, ss=ss, transient=True)"
   ]
  },
  {
   "cell_type": "markdown",
   "metadata": {},
   "source": [
    "## Now we need to find the center cell into which to place our pumping well"
   ]
  },
  {
   "cell_type": "code",
   "execution_count": null,
   "metadata": {},
   "outputs": [],
   "source": [
    "x = [i[1] for i in cell2d]\n",
    "y = [i[2] for i in cell2d]\n",
    "xc= x==np.median(x)\n",
    "yc =y==np.median(y)"
   ]
  },
  {
   "cell_type": "code",
   "execution_count": null,
   "metadata": {},
   "outputs": [],
   "source": [
    "center_cell = gwf.modelgrid.intersect(np.median(x),np.median(y))"
   ]
  },
  {
   "cell_type": "code",
   "execution_count": null,
   "metadata": {},
   "outputs": [],
   "source": [
    "# single well in the center\n",
    "well_sp = [[(0, center_cell), -1.16]]\n",
    "wel = fp.mf6.ModflowGwfwel(gwf,save_flows=True,stress_period_data=well_sp)"
   ]
  },
  {
   "cell_type": "code",
   "execution_count": null,
   "metadata": {},
   "outputs": [],
   "source": [
    "# output control\n",
    "oc = fp.mf6.ModflowGwfoc(gwf, pname='oc', budget_filerecord='{}.cbc'.format(model_name),\n",
    "                            head_filerecord='{}.hds'.format(model_name),\n",
    "                            headprintrecord=[('COLUMNS', 10, 'WIDTH', 15,\n",
    "                                              'DIGITS', 6, 'GENERAL')],\n",
    "                            saverecord=[('HEAD', 'ALL'), ('BUDGET', 'ALL')],\n",
    "                            printrecord=[('HEAD', 'ALL'), ('BUDGET', 'ALL')])"
   ]
  },
  {
   "cell_type": "markdown",
   "metadata": {},
   "source": [
    "## Now write the output and run"
   ]
  },
  {
   "cell_type": "code",
   "execution_count": null,
   "metadata": {
    "scrolled": true
   },
   "outputs": [],
   "source": [
    "sim.write_simulation()\n",
    "sim.run_simulation()"
   ]
  },
  {
   "cell_type": "markdown",
   "metadata": {},
   "source": [
    "## read in the head values and plot them"
   ]
  },
  {
   "cell_type": "code",
   "execution_count": null,
   "metadata": {},
   "outputs": [],
   "source": [
    "fname = os.path.join(model_dir, model_name + '.hds')\n",
    "hdobj = fp.utils.HeadFile(fname)\n",
    "head = hdobj.get_alldata()"
   ]
  },
  {
   "cell_type": "code",
   "execution_count": null,
   "metadata": {},
   "outputs": [],
   "source": [
    "head.shape"
   ]
  },
  {
   "cell_type": "code",
   "execution_count": null,
   "metadata": {},
   "outputs": [],
   "source": [
    "fig = plt.figure(figsize=(8, 8))\n",
    "ax = fig.add_subplot(1, 1, 1, aspect='equal')\n",
    "mm = fp.plot.PlotMapView(gwf, ax=ax)\n",
    "xmid,ymid = cell2d[center_cell][1],cell2d[center_cell][2]\n",
    "v=mm.plot_array(head[74,0,0:])\n",
    "plt.xlim((xmid-2550,xmid+2500))\n",
    "plt.ylim((ymid-2000,ymid+2100))\n",
    "plt.colorbar(v, shrink=.50)\n"
   ]
  },
  {
   "cell_type": "code",
   "execution_count": null,
   "metadata": {},
   "outputs": [],
   "source": [
    "# turn on XT3D in npf package to compare results\n",
    "gwf.npf.xt3doptions=True\n",
    "gwf"
   ]
  },
  {
   "cell_type": "markdown",
   "metadata": {},
   "source": [
    "### Write and run now with XT3D enabled"
   ]
  },
  {
   "cell_type": "code",
   "execution_count": null,
   "metadata": {},
   "outputs": [],
   "source": [
    "sim.write_simulation()\n",
    "sim.run_simulation()"
   ]
  },
  {
   "cell_type": "markdown",
   "metadata": {},
   "source": [
    "### Read in the heads again with XT3D and look at the difference on the final timestep"
   ]
  },
  {
   "cell_type": "code",
   "execution_count": null,
   "metadata": {},
   "outputs": [],
   "source": [
    "fname = os.path.join(model_dir, model_name + '.hds')\n",
    "hdobj2 = fp.utils.HeadFile(fname)\n",
    "head2 = hdobj2.get_alldata()"
   ]
  },
  {
   "cell_type": "code",
   "execution_count": null,
   "metadata": {},
   "outputs": [],
   "source": [
    "fig = plt.figure(figsize=(8, 8))\n",
    "ax = fig.add_subplot(1, 1, 1, aspect='equal')\n",
    "mm = fp.plot.PlotMapView(gwf, ax=ax)\n",
    "xmid,ymid = cell2d[center_cell][1],cell2d[center_cell][2]\n",
    "v=mm.plot_array(head[74,0,0:]-head2[74,0,0:])\n",
    "plt.xlim((xmid-2550,xmid+2550))\n",
    "plt.ylim((ymid-2100,ymid+2100))\n",
    "plt.colorbar(v)"
   ]
  },
  {
   "cell_type": "markdown",
   "metadata": {},
   "source": [
    "## Now we can compare with our analytical solution\n",
    "### First let's get the times from the head file to be sure we align times correctly"
   ]
  },
  {
   "cell_type": "code",
   "execution_count": null,
   "metadata": {},
   "outputs": [],
   "source": [
    "alltimes = hdobj.get_times()"
   ]
  },
  {
   "cell_type": "markdown",
   "metadata": {},
   "source": [
    "### Then import and run the Theis script"
   ]
  },
  {
   "cell_type": "code",
   "execution_count": null,
   "metadata": {},
   "outputs": [],
   "source": [
    "import theis_script2"
   ]
  },
  {
   "cell_type": "code",
   "execution_count": null,
   "metadata": {
    "scrolled": true
   },
   "outputs": [],
   "source": [
    "dd_analytical = theis_script2.theis_analytical(alltimes)"
   ]
  },
  {
   "cell_type": "markdown",
   "metadata": {},
   "source": [
    "## Plot a PDF with one time step per page"
   ]
  },
  {
   "cell_type": "code",
   "execution_count": null,
   "metadata": {},
   "outputs": [],
   "source": [
    "if os.path.exists('tmp_images'):\n",
    "    shutil.rmtree('tmp_images')\n",
    "os.mkdir('tmp_images')\n",
    "# make a temporary directory for the images."
   ]
  },
  {
   "cell_type": "code",
   "execution_count": null,
   "metadata": {},
   "outputs": [],
   "source": [
    "with PdfPages('theis_modflow_unstructured_circ_analytical.pdf') as pdfout:\n",
    "    for i in range(len(alltimes)):\n",
    "        # plot the MODFLOW6 head field\n",
    "        fig = plt.figure(figsize=(8,8))\n",
    "        ax = fig.add_subplot(121)\n",
    "        mm = fp.plot.PlotMapView(gwf, ax=ax)\n",
    "        ax.set_aspect('equal')\n",
    "        xmid,ymid = cell2d[center_cell][1],cell2d[center_cell][2]\n",
    "        v=mm.plot_array(-head[i,0,:],vmin=0,vmax=1.7, cmap='magma')\n",
    "        ax.set_xlim((xmid-1050,xmid+1050))\n",
    "        ax.set_ylim((ymid-1050,ymid+1050))\n",
    "        plt.title('MODFLOW6 Unstructured')\n",
    "\n",
    "        # plot the analytical solution\n",
    "        fig.add_subplot(122)\n",
    "        plt.imshow(dd_analytical[i], interpolation='nearest',\n",
    "                  vmin=0,\n",
    "                  vmax=1.7, cmap='magma')\n",
    "        plt.title('Analytical')\n",
    "        plt.suptitle('Theis two ways: timestep = {0}'.format(i+1))\n",
    "        plt.tight_layout()\n",
    "        \n",
    "        pdfout.savefig()\n",
    "        plt.savefig('tmp_images/{0}.png'.format(i))\n",
    "        \n",
    "        plt.close()"
   ]
  },
  {
   "cell_type": "markdown",
   "metadata": {},
   "source": [
    "## Or we can make a movie using `ffmpeg`"
   ]
  },
  {
   "cell_type": "code",
   "execution_count": null,
   "metadata": {},
   "outputs": [],
   "source": [
    "# make a .mpeg\n",
    "import imageio\n",
    "import imageio_ffmpeg\n",
    "\n",
    "mp4_path = 'modflow_theis_unstruc_circ.mp4'\n",
    "frames_path = 'tmp_images/{i}.png'\n",
    "\n",
    "with imageio.get_writer(mp4_path, mode='I') as writer:\n",
    "    for i in range(len(alltimes)):\n",
    "        writer.append_data(imageio.imread(frames_path.format(i=i)))"
   ]
  },
  {
   "cell_type": "markdown",
   "metadata": {},
   "source": [
    "### We can also evaluate the errors with and without `xt3d` over simulation time"
   ]
  },
  {
   "cell_type": "code",
   "execution_count": null,
   "metadata": {},
   "outputs": [],
   "source": [
    "with PdfPages('errors_circular.pdf') as pdfout:\n",
    "    for i in range(len(alltimes)):\n",
    "        fig = plt.figure(figsize=(8, 8))\n",
    "        ax = fig.add_subplot(1, 1, 1, aspect='equal')\n",
    "        mm = fp.plot.PlotMapView(gwf, ax=ax)\n",
    "        xmid,ymid = cell2d[center_cell][1],cell2d[center_cell][2]\n",
    "        v=mm.plot_array(head[i,0,0:]-head2[i,0,0:])\n",
    "        plt.xlim((xmid-2550,xmid+2550))\n",
    "        plt.ylim((ymid-2100,ymid+2100))\n",
    "        plt.colorbar(v, shrink=0.5)\n",
    "        plt.title('errors')\n",
    "        plt.tight_layout()\n",
    "        \n",
    "        pdfout.savefig()\n",
    "        plt.close()"
   ]
  }
 ],
 "metadata": {
  "kernelspec": {
   "display_name": "Python 3 (ipykernel)",
   "language": "python",
   "name": "python3"
  },
  "language_info": {
   "codemirror_mode": {
    "name": "ipython",
    "version": 3
   },
   "file_extension": ".py",
   "mimetype": "text/x-python",
   "name": "python",
   "nbconvert_exporter": "python",
   "pygments_lexer": "ipython3",
   "version": "3.9.2"
  }
 },
 "nbformat": 4,
 "nbformat_minor": 2
}
