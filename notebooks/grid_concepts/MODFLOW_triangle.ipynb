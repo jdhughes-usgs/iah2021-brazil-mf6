{
 "cells": [
  {
   "cell_type": "markdown",
   "metadata": {},
   "source": [
    "# Exercise: Triangle\n",
    "The purpose of this exercise is to use flopy and triangle to build a triangular mesh."
   ]
  },
  {
   "cell_type": "code",
   "execution_count": null,
   "metadata": {},
   "outputs": [],
   "source": [
    "import sys\n",
    "import os\n",
    "import shutil\n",
    "import numpy as np\n",
    "import matplotlib as mpl\n",
    "import matplotlib.pyplot as plt\n",
    "import flopy\n",
    "from flopy.utils.triangle import Triangle as Triangle\n",
    "%matplotlib inline\n"
   ]
  },
  {
   "cell_type": "code",
   "execution_count": null,
   "metadata": {},
   "outputs": [],
   "source": [
    "import geopandas as gp"
   ]
  },
  {
   "cell_type": "markdown",
   "metadata": {},
   "source": [
    "## read a shapefile of Switzerland including the cantons into `geopandas`"
   ]
  },
  {
   "cell_type": "code",
   "execution_count": null,
   "metadata": {},
   "outputs": [],
   "source": [
    "ch_cantons = gp.read_file('gadm36_CHE_shp/gadm36_CHE_1.shp')"
   ]
  },
  {
   "cell_type": "code",
   "execution_count": null,
   "metadata": {},
   "outputs": [],
   "source": [
    "ch_cantons.geometry"
   ]
  },
  {
   "cell_type": "markdown",
   "metadata": {},
   "source": [
    "## project to an equal-area projection appropriate for Switzerland"
   ]
  },
  {
   "cell_type": "code",
   "execution_count": null,
   "metadata": {},
   "outputs": [],
   "source": [
    "ch_cantons.geometry = ch_cantons.geometry.to_crs(21781)"
   ]
  },
  {
   "cell_type": "markdown",
   "metadata": {},
   "source": [
    "## now let's make an outline to use for the whole domain\n"
   ]
  },
  {
   "cell_type": "code",
   "execution_count": null,
   "metadata": {},
   "outputs": [],
   "source": [
    "switzerland_outline = ch_cantons.copy()\n",
    "switzerland_outline.geometry = switzerland_outline.geometry.convex_hull\n",
    "switzerland_outline = switzerland_outline.dissolve(by='GID_0')"
   ]
  },
  {
   "cell_type": "code",
   "execution_count": null,
   "metadata": {},
   "outputs": [],
   "source": [
    "print(len(switzerland_outline.geometry[0].boundary.xy[0]))\n",
    "#switzerland_outline.geometry=switzerland_outline.geometry.to_crs(21781)\n",
    "switzerland_outline.geometry[0]"
   ]
  },
  {
   "cell_type": "code",
   "execution_count": null,
   "metadata": {},
   "outputs": [],
   "source": [
    "switzerland_outline.geometry[0].boundary.xy"
   ]
  },
  {
   "cell_type": "markdown",
   "metadata": {},
   "source": [
    "## now we need to get lists of points to provide to triangle"
   ]
  },
  {
   "cell_type": "code",
   "execution_count": null,
   "metadata": {},
   "outputs": [],
   "source": [
    "domainpoly = []\n",
    "for x,y in zip(switzerland_outline.geometry[0].boundary.xy[0],switzerland_outline.geometry[0].boundary.xy[1]):\n",
    "    domainpoly.append((float(x), float(y)))\n",
    "maximum_area = 100000000"
   ]
  },
  {
   "cell_type": "code",
   "execution_count": null,
   "metadata": {},
   "outputs": [],
   "source": [
    "len(switzerland_outline.geometry[0].boundary.xy[0])"
   ]
  },
  {
   "cell_type": "markdown",
   "metadata": {},
   "source": [
    "## make a `triangle` object form which we can build an unstructured grid"
   ]
  },
  {
   "cell_type": "code",
   "execution_count": null,
   "metadata": {},
   "outputs": [],
   "source": [
    "model_ws = './triangle'\n",
    "if os.path.exists(model_ws):\n",
    "    shutil.rmtree(model_ws)\n",
    "os.makedirs(model_ws)\n",
    "\n",
    "tri = Triangle(maximum_area=maximum_area, angle=33, model_ws=model_ws, \n",
    "               exe_name='triangle')\n",
    "tri.add_polygon(domainpoly)\n",
    "tri.build(verbose=False)\n",
    "fig = plt.figure(figsize=(15,15))\n",
    "ax = plt.subplot(1, 1, 1, aspect='equal')\n",
    "pc = tri.plot(ax=ax)"
   ]
  },
  {
   "cell_type": "code",
   "execution_count": null,
   "metadata": {},
   "outputs": [],
   "source": [
    "tri.ncpl"
   ]
  },
  {
   "cell_type": "markdown",
   "metadata": {},
   "source": [
    "### we can visualize which are the boundary cells "
   ]
  },
  {
   "cell_type": "code",
   "execution_count": null,
   "metadata": {},
   "outputs": [],
   "source": [
    "ibd = tri.get_boundary_marker_array()\n",
    "ibd = np.ma.masked_equal(ibd, 0)\n",
    "fig = plt.figure(figsize=(15,15))\n",
    "ax = plt.subplot(1, 1, 1, aspect='equal')\n",
    "pc = tri.plot(a=ibd, cmap='jet')\n",
    "plt.colorbar(pc, shrink=0.5)"
   ]
  },
  {
   "cell_type": "markdown",
   "metadata": {},
   "source": [
    "### now find the edges so we can set their constant head values equal to a boundary value"
   ]
  },
  {
   "cell_type": "code",
   "execution_count": null,
   "metadata": {},
   "outputs": [],
   "source": [
    "edgenodes = []\n",
    "for iedge in range(len(domainpoly)):\n",
    "    nodes = tri.get_edge_cells(iedge)\n",
    "    for n in nodes:\n",
    "        if n not in edgenodes:\n",
    "            edgenodes.append(n)"
   ]
  },
  {
   "cell_type": "markdown",
   "metadata": {},
   "source": [
    "## now build a modflow model using this grid"
   ]
  },
  {
   "cell_type": "code",
   "execution_count": null,
   "metadata": {},
   "outputs": [],
   "source": [
    "name = 'mf'\n",
    "sim = flopy.mf6.MFSimulation(sim_name=name, version='mf6',\n",
    "                             exe_name='mf6',\n",
    "                             sim_ws=model_ws)\n",
    "tdis = flopy.mf6.ModflowTdis(sim, time_units='DAYS',\n",
    "                             perioddata=[[1.0, 1, 1.]])\n",
    "gwf = flopy.mf6.ModflowGwf(sim, modelname=name, save_flows=True)\n",
    "ims = flopy.mf6.ModflowIms(sim, print_option='SUMMARY', complexity='complex', \n",
    "                           outer_hclose=1.e-5, inner_hclose=1.e-4)\n",
    "cell2d = tri.get_cell2d()\n",
    "vertices = tri.get_vertices()\n",
    "xcyc = tri.get_xcyc()\n",
    "nlay = 1\n",
    "ncpl = tri.ncpl\n",
    "nvert = tri.nvert\n",
    "top = 1.\n",
    "hk=0.8\n",
    "botm = [0.]\n",
    "dis = flopy.mf6.ModflowGwfdisv(gwf, nlay=nlay, ncpl=ncpl, nvert=nvert,\n",
    "                               top=top, botm=botm, \n",
    "                               vertices=vertices, cell2d=cell2d)\n",
    "npf = flopy.mf6.ModflowGwfnpf(gwf, k=hk,xt3doptions=[True], \n",
    "                              save_specific_discharge=True)\n",
    "ic = flopy.mf6.ModflowGwfic(gwf)\n",
    "\n",
    "chdlist = []\n",
    "for icpl in edgenodes:\n",
    "    h = 0.\n",
    "    chdlist.append([(0, icpl), h])\n",
    "chd = flopy.mf6.ModflowGwfchd(gwf, stress_period_data=chdlist)\n",
    "rch = flopy.mf6.ModflowGwfrcha(gwf, recharge=0.01)\n",
    "oc = flopy.mf6.ModflowGwfoc(gwf,\n",
    "                            budget_filerecord='{}.cbc'.format(name),\n",
    "                            head_filerecord='{}.hds'.format(name),\n",
    "                            saverecord=[('HEAD', 'LAST'),\n",
    "                                        ('BUDGET', 'LAST')],\n",
    "                            printrecord=[('HEAD', 'LAST'),\n",
    "                                         ('BUDGET', 'LAST')])\n",
    "sim.write_simulation()\n",
    "success, buff = sim.run_simulation(report=True)"
   ]
  },
  {
   "cell_type": "markdown",
   "metadata": {},
   "source": [
    "## visualize the head solution"
   ]
  },
  {
   "cell_type": "code",
   "execution_count": null,
   "metadata": {},
   "outputs": [],
   "source": [
    "fname = os.path.join(model_ws, name + '.hds')\n",
    "hdobj = flopy.utils.HeadFile(fname, precision='double')\n",
    "head = hdobj.get_data()\n",
    "fname = os.path.join(model_ws, name + '.cbc')\n",
    "bdobj = flopy.utils.CellBudgetFile(fname, precision='double', verbose=False)\n",
    "spdis = bdobj.get_data(text='DATA-SPDIS')[0]\n",
    "\n",
    "fig = plt.figure(figsize=(15, 15))\n",
    "ax = plt.subplot(1, 1, 1, aspect='equal')\n",
    "h=tri.plot(ax=ax, a=head[0, 0, :], cmap='jet', alpha=.3)\n",
    "plt.colorbar(h, shrink=.5)"
   ]
  },
  {
   "cell_type": "code",
   "execution_count": null,
   "metadata": {},
   "outputs": [],
   "source": [
    "# with vectors\n",
    "fig = plt.figure(figsize=(15, 15))\n",
    "ax = plt.subplot(1, 1, 1, aspect='equal')\n",
    "pmv = flopy.plot.PlotMapView(model=gwf, ax=ax)\n",
    "pmv.plot_array(head[0, :, :], cmap='jet', edgecolor='0.1', alpha=0.3)\n",
    "pmv.plot_specific_discharge(spdis)"
   ]
  },
  {
   "cell_type": "markdown",
   "metadata": {},
   "source": [
    "# More complex geometry options"
   ]
  },
  {
   "cell_type": "markdown",
   "metadata": {},
   "source": [
    "## first let's make a hole"
   ]
  },
  {
   "cell_type": "code",
   "execution_count": null,
   "metadata": {},
   "outputs": [],
   "source": [
    "# note that we can only work with polygon types - not multipolygons"
   ]
  },
  {
   "cell_type": "code",
   "execution_count": null,
   "metadata": {},
   "outputs": [],
   "source": [
    "ch_cantons[['NAME_1','geometry']]"
   ]
  },
  {
   "cell_type": "markdown",
   "metadata": {},
   "source": [
    "# pick a canton to exclude from the grid"
   ]
  },
  {
   "cell_type": "code",
   "execution_count": null,
   "metadata": {},
   "outputs": [],
   "source": [
    "hole_poly_df = ch_cantons.loc[ch_cantons.NAME_1=='Schwyz']"
   ]
  },
  {
   "cell_type": "markdown",
   "metadata": {},
   "source": [
    "## `geopandas` can help us simplify -- we don't want too many points"
   ]
  },
  {
   "cell_type": "code",
   "execution_count": null,
   "metadata": {},
   "outputs": [],
   "source": [
    "refine_tolerance = 150"
   ]
  },
  {
   "cell_type": "code",
   "execution_count": null,
   "metadata": {},
   "outputs": [],
   "source": [
    "print(len(hole_poly_df.geometry.values[0].boundary.xy[0]))\n",
    "hole_poly_df.geometry.values[0]"
   ]
  },
  {
   "cell_type": "code",
   "execution_count": null,
   "metadata": {},
   "outputs": [],
   "source": [
    "print(len(hole_poly_df.geometry.simplify(refine_tolerance).geometry.values[0].boundary.xy[0]))\n",
    "\n",
    "hole_poly_df.geometry.simplify(refine_tolerance).values[0]"
   ]
  },
  {
   "cell_type": "code",
   "execution_count": null,
   "metadata": {},
   "outputs": [],
   "source": [
    "hole_poly_df.geometry = hole_poly_df.geometry.simplify(refine_tolerance).copy()\n",
    "hole_poly = []\n",
    "for x,y in zip(hole_poly_df.geometry.values[0].boundary.xy[0],hole_poly_df.geometry.values[0].boundary.xy[1]):\n",
    "    hole_poly.append((float(x), float(y)))"
   ]
  },
  {
   "cell_type": "code",
   "execution_count": null,
   "metadata": {},
   "outputs": [],
   "source": [
    "holexy=hole_poly_df.geometry.centroid"
   ]
  },
  {
   "cell_type": "code",
   "execution_count": null,
   "metadata": {},
   "outputs": [],
   "source": [
    "tri = Triangle(maximum_area=maximum_area, angle=33, model_ws=model_ws, \n",
    "               exe_name='triangle')\n",
    "tri.add_polygon(domainpoly)\n",
    "tri.add_polygon(hole_poly)\n",
    "tri.add_hole([holexy.x.values,holexy.y.values])\n",
    "tri.build(verbose=False)\n",
    "fig = plt.figure(figsize=(15,15))\n",
    "ax = plt.subplot(1, 1, 1, aspect='equal')\n",
    "tri.plot(ax=ax);"
   ]
  },
  {
   "cell_type": "markdown",
   "metadata": {},
   "source": [
    "## we can also refine around another polygon"
   ]
  },
  {
   "cell_type": "code",
   "execution_count": null,
   "metadata": {},
   "outputs": [],
   "source": [
    "refined_poly_df = ch_cantons.loc[ch_cantons.NAME_1=='Uri'].copy()\n"
   ]
  },
  {
   "cell_type": "code",
   "execution_count": null,
   "metadata": {},
   "outputs": [],
   "source": []
  },
  {
   "cell_type": "code",
   "execution_count": null,
   "metadata": {},
   "outputs": [],
   "source": [
    "print(len(refined_poly_df.geometry.values[0].boundary.xy[0]))\n",
    "refined_poly_df.geometry.values[0]"
   ]
  },
  {
   "cell_type": "code",
   "execution_count": null,
   "metadata": {},
   "outputs": [],
   "source": [
    "refine_tolerance = 650\n",
    "print(len(refined_poly_df.geometry.simplify(refine_tolerance).values[0].boundary.xy[0]))\n",
    "refined_poly_df.geometry.simplify(refine_tolerance).values[0]"
   ]
  },
  {
   "cell_type": "code",
   "execution_count": null,
   "metadata": {},
   "outputs": [],
   "source": [
    "refined_poly_df.geometry = refined_poly_df.geometry.simplify(refine_tolerance)"
   ]
  },
  {
   "cell_type": "code",
   "execution_count": null,
   "metadata": {},
   "outputs": [],
   "source": [
    "ref_poly = []\n",
    "for x,y in zip(refined_poly_df.geometry.values[0].boundary.xy[0],refined_poly_df.geometry.values[0].boundary.xy[1]):\n",
    "    ref_poly.append((float(x), float(y)))"
   ]
  },
  {
   "cell_type": "code",
   "execution_count": null,
   "metadata": {},
   "outputs": [],
   "source": [
    "ref_polyxy = refined_poly_df.geometry.centroid"
   ]
  },
  {
   "cell_type": "code",
   "execution_count": null,
   "metadata": {},
   "outputs": [],
   "source": [
    "if os.path.exists(model_ws):\n",
    "    shutil.rmtree(model_ws)\n",
    "os.makedirs(model_ws)\n",
    "\n",
    "tri = Triangle(angle=33, model_ws=model_ws, \n",
    "               exe_name='triangle')\n",
    "tri.add_polygon(domainpoly)\n",
    "tri.add_polygon(hole_poly)\n",
    "tri.add_polygon(ref_poly)\n",
    "tri.add_hole([holexy.x.values,holexy.y.values])\n",
    "\n",
    "tri.add_region([600000, 150000], 1, maximum_area=maximum_area)\n",
    "tri.add_region((ref_polyxy.x.values[0],ref_polyxy.y.values[0]), 0, maximum_area=maximum_area/10)\n",
    "tri.build(verbose=False)\n",
    "fig = plt.figure(figsize=(15,15))\n",
    "ax = plt.subplot(1, 1, 1, aspect='equal')\n",
    "tri.plot(ax=ax);"
   ]
  },
  {
   "cell_type": "markdown",
   "metadata": {},
   "source": [
    "## we will need to add edgenodes for both the main domain and the hole to set boundaries"
   ]
  },
  {
   "cell_type": "code",
   "execution_count": null,
   "metadata": {},
   "outputs": [],
   "source": [
    "# first the outer domain\n",
    "edgenodes = []\n",
    "for iedge in range(len(domainpoly)):\n",
    "    nodes = tri.get_edge_cells(iedge)\n",
    "    for n in nodes:\n",
    "        if n not in edgenodes:\n",
    "            edgenodes.append(n)  \n",
    "\n"
   ]
  },
  {
   "cell_type": "code",
   "execution_count": null,
   "metadata": {},
   "outputs": [],
   "source": [
    "# now get the points around the hole\n",
    "inset_nodes = []\n",
    "for iedge in range(len(domainpoly),len(domainpoly)+len(hole_poly)):\n",
    "    nodes = tri.get_edge_cells(iedge)\n",
    "    for n in nodes:\n",
    "        if n not in inset_nodes:\n",
    "            inset_nodes.append(n)    "
   ]
  },
  {
   "cell_type": "markdown",
   "metadata": {},
   "source": [
    "## now remake the model using the new triangle object for the grid"
   ]
  },
  {
   "cell_type": "code",
   "execution_count": null,
   "metadata": {},
   "outputs": [],
   "source": [
    "name = 'mf'\n",
    "sim = flopy.mf6.MFSimulation(sim_name=name, version='mf6',\n",
    "                             exe_name='mf6',\n",
    "                             sim_ws=model_ws)\n",
    "tdis = flopy.mf6.ModflowTdis(sim, time_units='DAYS',\n",
    "                             perioddata=[[1.0, 1, 1.]])\n",
    "gwf = flopy.mf6.ModflowGwf(sim, modelname=name, save_flows=True)\n",
    "ims = flopy.mf6.ModflowIms(sim, print_option='SUMMARY', complexity='complex', \n",
    "                           outer_hclose=1.e-5, inner_hclose=1.e-4)\n",
    "cell2d = tri.get_cell2d()\n",
    "vertices = tri.get_vertices()\n",
    "xcyc = tri.get_xcyc()\n",
    "nlay = 1\n",
    "ncpl = tri.ncpl\n",
    "nvert = tri.nvert\n",
    "top = 1.\n",
    "hk=0.8\n",
    "botm = [0.]\n",
    "dis = flopy.mf6.ModflowGwfdisv(gwf, nlay=nlay, ncpl=ncpl, nvert=nvert,\n",
    "                               top=top, botm=botm, \n",
    "                               vertices=vertices, cell2d=cell2d)"
   ]
  },
  {
   "cell_type": "code",
   "execution_count": null,
   "metadata": {},
   "outputs": [],
   "source": [
    "npf = flopy.mf6.ModflowGwfnpf(gwf, k = hk, xt3doptions=[True], \n",
    "                              save_specific_discharge=True)\n",
    "ic = flopy.mf6.ModflowGwfic(gwf)\n",
    "\n",
    "chdlist = []\n",
    "for icpl in edgenodes:\n",
    "    h = 10.\n",
    "    chdlist.append([(0, icpl), h])\n",
    "\n",
    "for icpl in inset_nodes:\n",
    "    h = 10.1\n",
    "    chdlist.append([(0, icpl), h])\n",
    "    \n",
    "chd = flopy.mf6.ModflowGwfchd(gwf, stress_period_data=chdlist)\n",
    "rch = flopy.mf6.ModflowGwfrcha(gwf, recharge=1e-8)\n",
    "oc = flopy.mf6.ModflowGwfoc(gwf,\n",
    "                            budget_filerecord='{}.cbc'.format(name),\n",
    "                            head_filerecord='{}.hds'.format(name),\n",
    "                            saverecord=[('HEAD', 'LAST'),\n",
    "                                        ('BUDGET', 'LAST')],\n",
    "                            printrecord=[('HEAD', 'LAST'),\n",
    "                                         ('BUDGET', 'LAST')])\n",
    "sim.write_simulation()\n",
    "success, buff = sim.run_simulation(report=True)"
   ]
  },
  {
   "cell_type": "code",
   "execution_count": null,
   "metadata": {},
   "outputs": [],
   "source": [
    "fname = os.path.join(model_ws, name + '.hds')\n",
    "hdobj = flopy.utils.HeadFile(fname, precision='double')\n",
    "head = hdobj.get_data()\n",
    "fname = os.path.join(model_ws, name + '.cbc')\n",
    "bdobj = flopy.utils.CellBudgetFile(fname, precision='double', verbose=False)\n",
    "spdis = bdobj.get_data(text='DATA-SPDIS')[0]\n",
    "\n",
    "fig = plt.figure(figsize=(15, 15))\n",
    "ax = plt.subplot(1, 1, 1, aspect='equal')\n",
    "h=tri.plot(ax=ax, a=head[0, 0, :], cmap='jet', alpha=.3)\n",
    "plt.colorbar(h, shrink=.5)"
   ]
  },
  {
   "cell_type": "code",
   "execution_count": null,
   "metadata": {},
   "outputs": [],
   "source": [
    "fname = os.path.join(model_ws, name + '.hds')\n",
    "hdobj = flopy.utils.HeadFile(fname, precision='double')\n",
    "head = hdobj.get_data()\n",
    "fname = os.path.join(model_ws, name + '.cbc')\n",
    "bdobj = flopy.utils.CellBudgetFile(fname, precision='double', verbose=False)\n",
    "spdis = bdobj.get_data(text='DATA-SPDIS')[0]\n",
    "\n",
    "fig = plt.figure(figsize=(15, 15))\n",
    "ax = plt.subplot(1, 1, 1, aspect='equal')\n",
    "h=tri.plot(ax=ax, a=head[0, 0, :], cmap='jet', alpha=.3)\n",
    "plt.colorbar(h, shrink=.5)"
   ]
  },
  {
   "cell_type": "code",
   "execution_count": null,
   "metadata": {},
   "outputs": [],
   "source": [
    "# with vectors\n",
    "fig = plt.figure(figsize=(15, 15))\n",
    "ax = plt.subplot(1, 1, 1, aspect='equal')\n",
    "pmv = flopy.plot.PlotMapView(model=gwf, ax=ax)\n",
    "h=pmv.plot_array(head[0, :, :], cmap='jet', edgecolor='0.1', alpha=0.3)\n",
    "pmv.plot_specific_discharge(spdis)\n",
    "plt.colorbar(h,shrink=0.4)"
   ]
  },
  {
   "cell_type": "code",
   "execution_count": null,
   "metadata": {},
   "outputs": [],
   "source": []
  },
  {
   "cell_type": "code",
   "execution_count": null,
   "metadata": {},
   "outputs": [],
   "source": []
  }
 ],
 "metadata": {
  "kernelspec": {
   "display_name": "Python 3",
   "language": "python",
   "name": "python3"
  },
  "language_info": {
   "codemirror_mode": {
    "name": "ipython",
    "version": 3
   },
   "file_extension": ".py",
   "mimetype": "text/x-python",
   "name": "python",
   "nbconvert_exporter": "python",
   "pygments_lexer": "ipython3",
   "version": "3.7.4"
  }
 },
 "nbformat": 4,
 "nbformat_minor": 2
}
