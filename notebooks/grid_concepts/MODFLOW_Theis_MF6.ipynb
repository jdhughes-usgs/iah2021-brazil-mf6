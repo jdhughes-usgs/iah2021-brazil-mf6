{
 "cells": [
  {
   "cell_type": "code",
   "execution_count": 1,
   "metadata": {},
   "outputs": [
    {
     "name": "stdout",
     "output_type": "stream",
     "text": [
      "flopy is installed in /Users/mnfienen/anaconda3/envs/pyclass/lib/python3.7/site-packages/flopy\n"
     ]
    }
   ],
   "source": [
    "import numpy as np\n",
    "import flopy as fp\n",
    "import matplotlib.pyplot as plt\n",
    "%matplotlib inline\n",
    "import os\n",
    "from matplotlib.backends.backend_pdf import PdfPages"
   ]
  },
  {
   "cell_type": "code",
   "execution_count": 2,
   "metadata": {},
   "outputs": [],
   "source": [
    "model_dir = 'theis_flopy_mf6'\n",
    "model_name = 'theis'\n",
    "if not os.path.exists(model_dir):\n",
    "    os.mkdir(model_dir)"
   ]
  },
  {
   "cell_type": "code",
   "execution_count": 3,
   "metadata": {},
   "outputs": [],
   "source": [
    "# create simulation\n",
    "sim = fp.mf6.MFSimulation(sim_name='theis_mf6', version='mf6', exe_name='mf6', \n",
    "                             sim_ws=model_dir)\n"
   ]
  },
  {
   "cell_type": "code",
   "execution_count": 4,
   "metadata": {},
   "outputs": [],
   "source": [
    "# create tdis package\n",
    "tdis_rc = [(86400.0, 75, 1.2)]\n",
    "tdis = fp.mf6.ModflowTdis(sim, pname='tdis', time_units='DAYS', \n",
    "                             perioddata=tdis_rc)"
   ]
  },
  {
   "cell_type": "code",
   "execution_count": 5,
   "metadata": {},
   "outputs": [],
   "source": [
    "# create gwf model\n",
    "gwf = fp.mf6.ModflowGwf(sim, modelname=model_name,\n",
    "                           model_nam_file='{}.nam'.format(model_name))\n",
    "gwf.name_file.save_flows = True"
   ]
  },
  {
   "cell_type": "code",
   "execution_count": 6,
   "metadata": {},
   "outputs": [],
   "source": [
    "# create iterative model solution and register the gwf model with it\n",
    "ims = fp.mf6.ModflowIms(sim, pname='ims', print_option='SUMMARY', \n",
    "                           complexity='SIMPLE', outer_hclose=1.e-2, \n",
    "                           outer_maximum=10, under_relaxation='NONE', \n",
    "                           inner_maximum=10, inner_hclose=1.e-4, \n",
    "                           rcloserecord=0.1, linear_acceleration='BICGSTAB', \n",
    "                           scaling_method='NONE', reordering_method='NONE', \n",
    "                           relaxation_factor=0.99)"
   ]
  },
  {
   "cell_type": "code",
   "execution_count": 7,
   "metadata": {},
   "outputs": [],
   "source": [
    "sim.register_ims_package(ims, [gwf.name])\n"
   ]
  },
  {
   "cell_type": "code",
   "execution_count": 8,
   "metadata": {},
   "outputs": [],
   "source": [
    "# dis\n",
    "nlay = 1\n",
    "nrow = 1001\n",
    "ncol = 1001\n",
    "delr = 100\n",
    "delc = 100\n",
    "top = 0\n",
    "botm = -1\n",
    "dis = fp.mf6.ModflowGwfdis(gwf, nlay=nlay, nrow=nrow, ncol=ncol,\n",
    "                              delr=delr, delc=delc,\n",
    "                              top=top, botm=botm)"
   ]
  },
  {
   "cell_type": "code",
   "execution_count": 9,
   "metadata": {},
   "outputs": [],
   "source": [
    "# initial conditions\n",
    "ic = fp.mf6.ModflowGwfic(gwf, pname='ic', strt=0.)"
   ]
  },
  {
   "cell_type": "code",
   "execution_count": 10,
   "metadata": {},
   "outputs": [
    {
     "data": {
      "text/plain": [
       "[[(0, 0, 1), 0],\n",
       " [(0, 0, 2), 0],\n",
       " [(0, 0, 3), 0],\n",
       " [(0, 0, 4), 0],\n",
       " [(0, 0, 5), 0],\n",
       " [(0, 0, 6), 0],\n",
       " [(0, 0, 7), 0],\n",
       " [(0, 0, 8), 0],\n",
       " [(0, 0, 9), 0],\n",
       " [(0, 0, 10), 0]]"
      ]
     },
     "execution_count": 10,
     "metadata": {},
     "output_type": "execute_result"
    }
   ],
   "source": [
    "# CHD equal to 0 at the boundaries\n",
    "chd_spd = [[(0,0,i),0] for i in range(1,ncol)] + \\\n",
    "          [[(0,i,0),0] for i in range(nrow)] + \\\n",
    "          [[(0,nrow-1,i),0] for i in range(1,ncol)] + \\\n",
    "          [[(0,i,ncol-1),0] for i in range(1,nrow-1)]\n",
    "chd_spd[:10]"
   ]
  },
  {
   "cell_type": "code",
   "execution_count": 11,
   "metadata": {},
   "outputs": [],
   "source": [
    "chd = fp.mf6.ModflowGwfchd(gwf, save_flows=True,stress_period_data = chd_spd)"
   ]
  },
  {
   "cell_type": "code",
   "execution_count": 12,
   "metadata": {},
   "outputs": [],
   "source": [
    "# npf \n",
    "hk=0.3\n",
    "\n",
    "# node property flow\n",
    "npf = fp.mf6.ModflowGwfnpf(gwf, save_specific_discharge=True,\n",
    "                              icelltype=[0], \n",
    "                              k=[hk])"
   ]
  },
  {
   "cell_type": "code",
   "execution_count": 13,
   "metadata": {},
   "outputs": [],
   "source": [
    "# storage\n",
    "ss=0.0008\n",
    "stor = fp.mf6.ModflowGwfsto(gwf, ss=ss, transient=True)"
   ]
  },
  {
   "cell_type": "code",
   "execution_count": 14,
   "metadata": {},
   "outputs": [],
   "source": [
    "# single well in the center\n",
    "well_sp = [[(0, 500, 500), -1.16]]\n",
    "wel = fp.mf6.ModflowGwfwel(gwf,save_flows=True,stress_period_data=well_sp)"
   ]
  },
  {
   "cell_type": "code",
   "execution_count": 15,
   "metadata": {},
   "outputs": [],
   "source": [
    "# output control\n",
    "oc = fp.mf6.ModflowGwfoc(gwf, pname='oc', budget_filerecord='{}.cbc'.format(model_name),\n",
    "                            head_filerecord='{}.hds'.format(model_name),\n",
    "                            headprintrecord=[('COLUMNS', 10, 'WIDTH', 15,\n",
    "                                              'DIGITS', 6, 'GENERAL')],\n",
    "                            saverecord=[('HEAD', 'ALL'), ('BUDGET', 'ALL')],\n",
    "                            printrecord=[('HEAD', 'ALL'), ('BUDGET', 'ALL')])"
   ]
  },
  {
   "cell_type": "code",
   "execution_count": 16,
   "metadata": {
    "scrolled": false
   },
   "outputs": [
    {
     "name": "stdout",
     "output_type": "stream",
     "text": [
      "writing simulation...\n",
      "  writing simulation name file...\n",
      "  writing simulation tdis package...\n",
      "  writing ims package ims...\n",
      "  writing model theis...\n",
      "    writing model name file...\n",
      "    writing package dis...\n",
      "    writing package ic...\n",
      "    writing package chd_0...\n",
      "INFORMATION: maxbound in ('gwf6', 'chd', 'dimensions') changed to 4000 based on size of stress_period_data\n",
      "    writing package npf...\n",
      "    writing package sto...\n",
      "    writing package wel_0...\n",
      "INFORMATION: maxbound in ('gwf6', 'wel', 'dimensions') changed to 1 based on size of stress_period_data\n",
      "    writing package oc...\n",
      "FloPy is using the following  executable to run the model: /Users/mnfienen/Documents/bin/MAC_VERSIONS_USGS/mf6\n",
      "                                   MODFLOW 6\n",
      "                U.S. GEOLOGICAL SURVEY MODULAR HYDROLOGIC MODEL\n",
      "                            VERSION 6.0.4 03/13/2019\n",
      "\n",
      "   MODFLOW 6 compiled Mar 21 2019 13:54:16 with IFORT compiler (ver. 19.0.0)\n",
      "\n",
      "This software has been approved for release by the U.S. Geological \n",
      "Survey (USGS). Although the software has been subjected to rigorous \n",
      "review, the USGS reserves the right to update the software as needed \n",
      "pursuant to further analysis and review. No warranty, expressed or \n",
      "implied, is made by the USGS or the U.S. Government as to the \n",
      "functionality of the software and related material nor shall the \n",
      "fact of release constitute any such warranty. Furthermore, the \n",
      "software is released on condition that neither the USGS nor the U.S. \n",
      "Government shall be held liable for any damages resulting from its \n",
      "authorized or unauthorized use. Also refer to the USGS Water \n",
      "Resources Software User Rights Notice for complete use, copyright, \n",
      "and distribution information.\n",
      "\n",
      " Run start date and time (yyyy/mm/dd hh:mm:ss): 2019/12/17  4:50:34\n",
      "\n",
      " Writing simulation list file: mfsim.lst\n",
      " Using Simulation name file: mfsim.nam\n",
      " Solving:  Stress period:     1    Time step:     1\n",
      " Solving:  Stress period:     1    Time step:     2\n",
      " Solving:  Stress period:     1    Time step:     3\n",
      " Solving:  Stress period:     1    Time step:     4\n",
      " Solving:  Stress period:     1    Time step:     5\n",
      " Solving:  Stress period:     1    Time step:     6\n",
      " Solving:  Stress period:     1    Time step:     7\n",
      " Solving:  Stress period:     1    Time step:     8\n",
      " Solving:  Stress period:     1    Time step:     9\n",
      " Solving:  Stress period:     1    Time step:    10\n",
      " Solving:  Stress period:     1    Time step:    11\n",
      " Solving:  Stress period:     1    Time step:    12\n",
      " Solving:  Stress period:     1    Time step:    13\n",
      " Solving:  Stress period:     1    Time step:    14\n",
      " Solving:  Stress period:     1    Time step:    15\n",
      " Solving:  Stress period:     1    Time step:    16\n",
      " Solving:  Stress period:     1    Time step:    17\n",
      " Solving:  Stress period:     1    Time step:    18\n",
      " Solving:  Stress period:     1    Time step:    19\n",
      " Solving:  Stress period:     1    Time step:    20\n",
      " Solving:  Stress period:     1    Time step:    21\n",
      " Solving:  Stress period:     1    Time step:    22\n",
      " Solving:  Stress period:     1    Time step:    23\n",
      " Solving:  Stress period:     1    Time step:    24\n",
      " Solving:  Stress period:     1    Time step:    25\n",
      " Solving:  Stress period:     1    Time step:    26\n",
      " Solving:  Stress period:     1    Time step:    27\n",
      " Solving:  Stress period:     1    Time step:    28\n",
      " Solving:  Stress period:     1    Time step:    29\n",
      " Solving:  Stress period:     1    Time step:    30\n",
      " Solving:  Stress period:     1    Time step:    31\n",
      " Solving:  Stress period:     1    Time step:    32\n",
      " Solving:  Stress period:     1    Time step:    33\n",
      " Solving:  Stress period:     1    Time step:    34\n",
      " Solving:  Stress period:     1    Time step:    35\n",
      " Solving:  Stress period:     1    Time step:    36\n",
      " Solving:  Stress period:     1    Time step:    37\n",
      " Solving:  Stress period:     1    Time step:    38\n",
      " Solving:  Stress period:     1    Time step:    39\n",
      " Solving:  Stress period:     1    Time step:    40\n",
      " Solving:  Stress period:     1    Time step:    41\n",
      " Solving:  Stress period:     1    Time step:    42\n",
      " Solving:  Stress period:     1    Time step:    43\n",
      " Solving:  Stress period:     1    Time step:    44\n",
      " Solving:  Stress period:     1    Time step:    45\n",
      " Solving:  Stress period:     1    Time step:    46\n",
      " Solving:  Stress period:     1    Time step:    47\n",
      " Solving:  Stress period:     1    Time step:    48\n",
      " Solving:  Stress period:     1    Time step:    49\n",
      " Solving:  Stress period:     1    Time step:    50\n",
      " Solving:  Stress period:     1    Time step:    51\n",
      " Solving:  Stress period:     1    Time step:    52\n",
      " Solving:  Stress period:     1    Time step:    53\n",
      " Solving:  Stress period:     1    Time step:    54\n",
      " Solving:  Stress period:     1    Time step:    55\n",
      " Solving:  Stress period:     1    Time step:    56\n",
      " Solving:  Stress period:     1    Time step:    57\n",
      " Solving:  Stress period:     1    Time step:    58\n",
      " Solving:  Stress period:     1    Time step:    59\n",
      " Solving:  Stress period:     1    Time step:    60\n",
      " Solving:  Stress period:     1    Time step:    61\n",
      " Solving:  Stress period:     1    Time step:    62\n",
      " Solving:  Stress period:     1    Time step:    63\n",
      " Solving:  Stress period:     1    Time step:    64\n",
      " Solving:  Stress period:     1    Time step:    65\n",
      " Solving:  Stress period:     1    Time step:    66\n",
      " Solving:  Stress period:     1    Time step:    67\n",
      " Solving:  Stress period:     1    Time step:    68\n",
      " Solving:  Stress period:     1    Time step:    69\n",
      " Solving:  Stress period:     1    Time step:    70\n",
      " Solving:  Stress period:     1    Time step:    71\n",
      " Solving:  Stress period:     1    Time step:    72\n",
      " Solving:  Stress period:     1    Time step:    73\n",
      " Solving:  Stress period:     1    Time step:    74\n",
      " Solving:  Stress period:     1    Time step:    75\n",
      " Run end date and time (yyyy/mm/dd hh:mm:ss): 2019/12/17  4:58:03\n",
      " Elapsed run time:  7 Minutes, 29.207 Seconds\n",
      "\n",
      " Normal termination of simulation.\n"
     ]
    },
    {
     "data": {
      "text/plain": [
       "(True, [])"
      ]
     },
     "execution_count": 16,
     "metadata": {},
     "output_type": "execute_result"
    }
   ],
   "source": [
    "sim.write_simulation()\n",
    "sim.run_simulation()"
   ]
  },
  {
   "cell_type": "code",
   "execution_count": 17,
   "metadata": {},
   "outputs": [],
   "source": [
    "fname = os.path.join(model_dir, model_name + '.hds')\n",
    "hdobj = fp.utils.HeadFile(fname)\n",
    "head = hdobj.get_alldata()"
   ]
  },
  {
   "cell_type": "code",
   "execution_count": 18,
   "metadata": {},
   "outputs": [
    {
     "data": {
      "text/plain": [
       "(75, 1, 1001, 1001)"
      ]
     },
     "execution_count": 18,
     "metadata": {},
     "output_type": "execute_result"
    }
   ],
   "source": [
    "head.shape"
   ]
  },
  {
   "cell_type": "code",
   "execution_count": 19,
   "metadata": {},
   "outputs": [],
   "source": [
    "with PdfPages('theis_mf.pdf') as pdfout:\n",
    "    for i, chead in enumerate(head):\n",
    "        printhead = np.squeeze(chead)\n",
    "        plt.figure(figsize=(8,8))\n",
    "        plt.imshow(-printhead[490:510,490:510],\n",
    "                  interpolation='nearest',\n",
    "                  vmin=0,\n",
    "                  vmax=2.7)\n",
    "        plt.colorbar()\n",
    "        plt.title('Theis-o-matic --> timestep{0}'.format(i))\n",
    "        pdfout.savefig()\n",
    "        plt.close()\n",
    "        "
   ]
  },
  {
   "cell_type": "code",
   "execution_count": 20,
   "metadata": {},
   "outputs": [],
   "source": [
    "import theis_script2"
   ]
  },
  {
   "cell_type": "code",
   "execution_count": 21,
   "metadata": {},
   "outputs": [],
   "source": [
    "hydrograph = [head[:,0,500,501],head[:,0,500,510]]"
   ]
  },
  {
   "cell_type": "code",
   "execution_count": 22,
   "metadata": {},
   "outputs": [],
   "source": [
    "alltimes = hdobj.get_times()"
   ]
  },
  {
   "cell_type": "code",
   "execution_count": 23,
   "metadata": {},
   "outputs": [
    {
     "data": {
      "text/plain": [
       "[<matplotlib.lines.Line2D at 0x115bd6080>]"
      ]
     },
     "execution_count": 23,
     "metadata": {},
     "output_type": "execute_result"
    },
    {
     "data": {
      "image/png": "[encoded data removed]",
      "text/plain": [
       "<Figure size 432x288 with 1 Axes>"
      ]
     },
     "metadata": {
      "needs_background": "light"
     },
     "output_type": "display_data"
    }
   ],
   "source": [
    "plt.plot(alltimes,hydrograph[0])\n",
    "plt.plot(alltimes,hydrograph[1])"
   ]
  },
  {
   "cell_type": "code",
   "execution_count": 24,
   "metadata": {},
   "outputs": [],
   "source": [
    "import theis_script2"
   ]
  },
  {
   "cell_type": "code",
   "execution_count": 25,
   "metadata": {},
   "outputs": [
    {
     "name": "stdout",
     "output_type": "stream",
     "text": [
      "0\n",
      "1\n",
      "2\n",
      "3\n",
      "4\n",
      "5\n",
      "6\n",
      "7\n",
      "8\n",
      "9\n",
      "10\n",
      "11\n",
      "12\n",
      "13\n",
      "14\n",
      "15\n",
      "16\n",
      "17\n",
      "18\n",
      "19\n",
      "20\n",
      "21\n",
      "22\n",
      "23\n",
      "24\n",
      "25\n",
      "26\n",
      "27\n",
      "28\n",
      "29\n",
      "30\n",
      "31\n",
      "32\n",
      "33\n",
      "34\n",
      "35\n",
      "36\n",
      "37\n",
      "38\n",
      "39\n",
      "40\n",
      "41\n",
      "42\n",
      "43\n",
      "44\n",
      "45\n",
      "46\n",
      "47\n",
      "48\n",
      "49\n",
      "50\n",
      "51\n",
      "52\n",
      "53\n",
      "54\n",
      "55\n",
      "56\n",
      "57\n",
      "58\n",
      "59\n",
      "60\n",
      "61\n",
      "62\n",
      "63\n",
      "64\n",
      "65\n",
      "66\n",
      "67\n",
      "68\n",
      "69\n",
      "70\n",
      "71\n",
      "72\n",
      "73\n",
      "74\n",
      "1.3215506136570812\n",
      "the end\n"
     ]
    }
   ],
   "source": [
    "dd_analytical = theis_script2.theis_analytical(alltimes)"
   ]
  },
  {
   "cell_type": "code",
   "execution_count": 26,
   "metadata": {},
   "outputs": [],
   "source": []
  },
  {
   "cell_type": "code",
   "execution_count": 27,
   "metadata": {},
   "outputs": [],
   "source": [
    "if os.path.exists('tmp_images'):\n",
    "    shutil.rmtree('tmp_images')\n",
    "os.mkdir('tmp_images')\n",
    "# make a temporary directory for the images."
   ]
  },
  {
   "cell_type": "code",
   "execution_count": 29,
   "metadata": {},
   "outputs": [],
   "source": [
    "with PdfPages('theis_modflow_analytical.pdf') as pdfout:\n",
    "    for i in range(len(alltimes)):\n",
    "        fig = plt.figure(figsize=(8,8))\n",
    "        fig.add_subplot(121)\n",
    "        plt.imshow(-head[i,0,490:510,490:510],\n",
    "                  interpolation='nearest',\n",
    "                  vmin = 0,\n",
    "                  vmax = 1.7, cmap='magma')\n",
    "        plt.title('MODFLOW')\n",
    "        fig.add_subplot(122)\n",
    "        plt.imshow(dd_analytical[i], interpolation='nearest',\n",
    "                  vmin=0,\n",
    "                  vmax=1.7, cmap='magma')\n",
    "        plt.title('Analytical')\n",
    "        plt.suptitle('Theis two ways: timestep = {0}'.format(i+1))\n",
    "        plt.tight_layout()\n",
    "        \n",
    "        pdfout.savefig()\n",
    "        \n",
    "         # also make a png\n",
    "        plt.savefig('tmp_images/{0}.png'.format(i))\n",
    "        \n",
    "        plt.close()"
   ]
  },
  {
   "cell_type": "code",
   "execution_count": 33,
   "metadata": {},
   "outputs": [],
   "source": [
    "# make a gif\n",
    "import imageio\n",
    "\n",
    "gif_path = 'modflow_theis.gif'\n",
    "frames_path = 'tmp_images/{i}.png'\n",
    "\n",
    "with imageio.get_writer(gif_path, mode='I') as writer:\n",
    "    for i in range(len(alltimes)):\n",
    "        writer.append_data(imageio.imread(frames_path.format(i=i)))"
   ]
  },
  {
   "cell_type": "code",
   "execution_count": 34,
   "metadata": {},
   "outputs": [],
   "source": [
    "# make a .mpeg\n",
    "import imageio_ffmpeg\n",
    "\n",
    "mp4_path = 'modflow_theis.mp4'\n",
    "frames_path = 'tmp_images/{i}.png'\n",
    "\n",
    "with imageio.get_writer(mp4_path, mode='I') as writer:\n",
    "    for i in range(len(alltimes)):\n",
    "        writer.append_data(imageio.imread(frames_path.format(i=i)))"
   ]
  },
  {
   "cell_type": "code",
   "execution_count": null,
   "metadata": {},
   "outputs": [],
   "source": []
  }
 ],
 "metadata": {
  "kernelspec": {
   "display_name": "Python 3",
   "language": "python",
   "name": "python3"
  },
  "language_info": {
   "codemirror_mode": {
    "name": "ipython",
    "version": 3
   },
   "file_extension": ".py",
   "mimetype": "text/x-python",
   "name": "python",
   "nbconvert_exporter": "python",
   "pygments_lexer": "ipython3",
   "version": "3.7.3"
  }
 },
 "nbformat": 4,
 "nbformat_minor": 2
}
